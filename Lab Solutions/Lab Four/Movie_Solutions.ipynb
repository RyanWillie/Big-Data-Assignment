{
 "cells": [
  {
   "cell_type": "markdown",
   "metadata": {},
   "source": [
    "## Data Preparation\n",
    "Let's load this data into Python."
   ]
  },
  {
   "cell_type": "code",
   "execution_count": 1,
   "metadata": {},
   "outputs": [],
   "source": [
    "import pandas as pd\n",
    "import numpy as np\n",
    "import matplotlib.pyplot as plt\n",
    "\n",
    "# Reading ratings file\n",
    "# Ignore the timestamp column\n",
    "ratings = pd.read_csv('ratings.csv', encoding='latin-1', usecols=['user_id', 'movie_id', 'rating'])\n",
    "\n",
    "# Reading users file\n",
    "users = pd.read_csv('users.csv',  encoding='latin-1', usecols=['user_id', 'gender', 'zipcode', 'age_desc', 'occ_desc'])\n",
    "\n",
    "# Reading movies file\n",
    "movies = pd.read_csv('movies.csv', encoding='latin-1', usecols=['movie_id', 'title', 'genres'])"
   ]
  },
  {
   "cell_type": "code",
   "execution_count": 2,
   "metadata": {},
   "outputs": [
    {
     "data": {
      "image/png": "[encoded data removed]",
      "text/plain": [
       "<Figure size 432x288 with 1 Axes>"
      ]
     },
     "metadata": {
      "needs_background": "light"
     },
     "output_type": "display_data"
    }
   ],
   "source": [
    "# Import seaborn library\n",
    "import seaborn as sns\n",
    "sns.set_style('whitegrid')\n",
    "sns.set(font_scale=1.5)\n",
    "%matplotlib inline\n",
    "\n",
    "# Display distribution of rating\n",
    "#sns.distplot(ratings['rating'].fillna(ratings['rating'].median()))\n",
    "sns.kdeplot(ratings['rating'].fillna(ratings['rating'].median()), shade=True);"
   ]
  },
  {
   "cell_type": "markdown",
   "metadata": {},
   "source": [
    "## Content-Based Recommendation Model\n",
    "\n",
    "Computes similarity between movies based on movie genres. It will suggest movies that are most similar to a particular movie based on its genre."
   ]
  },
  {
   "cell_type": "code",
   "execution_count": 3,
   "metadata": {},
   "outputs": [
    {
     "name": "stdout",
     "output_type": "stream",
     "text": [
      "['Animation', \"Children's\", 'Comedy', 'Adventure', 'Fantasy', 'Romance', 'Drama', 'Action', 'Crime', 'Thriller', 'Horror', 'Sci-Fi', 'Documentary', 'War', 'Musical']\n"
     ]
    }
   ],
   "source": [
    "listGen = []\n",
    "movies['genres'].fillna(\"\").astype('str')\n",
    "for movie in movies['genres'].values:\n",
    "    if pd.isnull(movie):\n",
    "        continue\n",
    "    items = movie.split('|')\n",
    "    for item in items:\n",
    "        if item not in listGen:\n",
    "            listGen.append(item)\n",
    "\n",
    "print(listGen)"
   ]
  },
  {
   "cell_type": "code",
   "execution_count": 4,
   "metadata": {},
   "outputs": [
    {
     "name": "stdout",
     "output_type": "stream",
     "text": [
      "[[1, 1, 1, 0, 0, 0, 0, 0, 0, 0, 0, 0, 0, 0, 0], [0, 1, 0, 1, 1, 0, 0, 0, 0, 0, 0, 0, 0, 0, 0], [0, 0, 1, 0, 0, 1, 0, 0, 0, 0, 0, 0, 0, 0, 0], [0, 0, 1, 0, 0, 0, 1, 0, 0, 0, 0, 0, 0, 0, 0]]\n"
     ]
    }
   ],
   "source": [
    "Ij = []\n",
    "\n",
    "for movie in movies['genres'].values:\n",
    "    rows = []\n",
    "    \n",
    "    for j, item in enumerate(listGen):\n",
    "        if pd.isnull(movie):\n",
    "            rows.append(0)\n",
    "            continue\n",
    "        if item in movie.split('|'):\n",
    "            rows.append(1)\n",
    "        else:\n",
    "            rows.append(0)\n",
    "    Ij.append(rows)\n",
    "print(Ij[:4])"
   ]
  },
  {
   "cell_type": "code",
   "execution_count": 5,
   "metadata": {},
   "outputs": [
    {
     "name": "stdout",
     "output_type": "stream",
     "text": [
      "[[0, 0, 1, 0, 0, 1, 1, 1, 0, 1, 0, 0, 1, 0, 0], [0, 0, 1, 0, 0, 1, 1, 1, 0, 1, 0, 0, 1, 0, 0], [0, 0, 1, 0, 0, 1, 1, 1, 0, 1, 0, 0, 1, 0, 0], [0, 0, 1, 0, 0, 0, 1, 1, 0, 1, 0, 0, 1, 0, 0]]\n"
     ]
    }
   ],
   "source": [
    "dataset = pd.merge(ratings, movies)\n",
    "dataset= dataset.groupby('user_id')['genres'].apply(list)\n",
    "Uj = []\n",
    "for row in dataset:\n",
    "    rows = []\n",
    "    \n",
    "    for j, item in enumerate(listGen):\n",
    "        if item in row:\n",
    "            rows.append(1)\n",
    "        else:\n",
    "            rows.append(0)\n",
    "    Uj.append(rows)\n",
    "    \n",
    "print(Uj[:4])"
   ]
  },
  {
   "cell_type": "code",
   "execution_count": 6,
   "metadata": {},
   "outputs": [
    {
     "name": "stdout",
     "output_type": "stream",
     "text": [
      "[0, 0, 0, 0, 0, 0, 1, 1, 0, 1, 0, 0, 0, 0, 0]\n",
      "[0, 0, 1, 0, 0, 1, 1, 1, 0, 1, 0, 0, 1, 0, 0]\n",
      "[[0.23570226 0.         0.57735027 ... 0.57735027 0.40824829 0.57735027]\n",
      " [0.23570226 0.         0.57735027 ... 0.57735027 0.40824829 0.57735027]\n",
      " [0.23570226 0.         0.57735027 ... 0.57735027 0.40824829 0.57735027]\n",
      " ...\n",
      " [0.23570226 0.         0.57735027 ... 0.57735027 0.40824829 0.57735027]\n",
      " [0.23570226 0.         0.57735027 ... 0.57735027 0.40824829 0.57735027]\n",
      " [0.23570226 0.         0.57735027 ... 0.57735027 0.40824829 0.57735027]]\n"
     ]
    }
   ],
   "source": [
    "print(Ij[50])\n",
    "print(Uj[50])\n",
    "from sklearn.metrics.pairwise import cosine_similarity\n",
    "cos_sim = cosine_similarity(Uj,Ij)\n",
    "print(cos_sim)"
   ]
  },
  {
   "cell_type": "markdown",
   "metadata": {},
   "source": [
    "## Collaborative Filtering Recommendation Model\n",
    "\n",
    "\n",
    "Use the file **ratings.csv** first as it contains User ID, Movie IDs and Ratings. These three elements are all needed for determining the similarity of the users based on their ratings for a particular movie.\n"
   ]
  },
  {
   "cell_type": "code",
   "execution_count": 7,
   "metadata": {},
   "outputs": [],
   "source": [
    "import math\n",
    "def correlation_similarity(v1,v2):\n",
    "    v1 = v1 - np.nanmean(v1)\n",
    "    v2 = v2 - np.nanmean(v2)\n",
    "    \"compute similarity of v1 to v2: (v1 dot v2)/{||v1||*||v2||)\"\n",
    "    sumxx, sumxy, sumyy = 0, 0, 0\n",
    "    for i in range(len(v1)):\n",
    "        x = v1[i]; y = v2[i]\n",
    "        if np.isnan(x) or np.isnan(y) or x == 0 or y ==0: continue\n",
    "        sumxx += x*x\n",
    "        sumyy += y*y\n",
    "        sumxy += x*y\n",
    "    if sumxx == 0 and sumyy == 0:\n",
    "        sumxx = sumyy = 1\n",
    "    return sumxy/math.sqrt(sumxx*sumyy)\n",
    "\n",
    "def sim_matrix(M, dimension='user'):\n",
    "    N = M.shape[0] if dimension == 'user' else M.shape[1]\n",
    "    print(N)\n",
    "    sim = np.zeros([N,N])\n",
    "    for i in range(N):\n",
    "        for j in range(N):\n",
    "            if i == j:\n",
    "                sim[i,j] = 0 #Cancel out the effect of self-similarity in the sums later\n",
    "                continue\n",
    "            if dimension == 'user':\n",
    "                v1, v2 = M[i,:], M[j,:]\n",
    "            else:\n",
    "                v1, v2 = M[:,i], M[:,j]\n",
    "            sim[i][j] = correlation_similarity(v1,v2)\n",
    "    print(sim.shape)\n",
    "    return sim"
   ]
  },
  {
   "cell_type": "code",
   "execution_count": 8,
   "metadata": {},
   "outputs": [],
   "source": [
    "# Fill NaN values in user_id and movie_id column with 0\n",
    "ratings['user_id'] = ratings['user_id'].fillna(0)\n",
    "ratings['movie_id'] = ratings['movie_id'].fillna(0)\n",
    "\n",
    "# Replace NaN values in rating column with average of all values\n",
    "ratings['rating'] = ratings['rating'].fillna(ratings['rating'].mean())"
   ]
  },
  {
   "cell_type": "code",
   "execution_count": 9,
   "metadata": {},
   "outputs": [
    {
     "name": "stdout",
     "output_type": "stream",
     "text": [
      "      user_id  movie_id  rating\n",
      "1883       26         2       2\n",
      "6071       81        84       3\n",
      "6787       91        17       4\n",
      "2400       32        96       4\n",
      "1179       16        37       4\n"
     ]
    }
   ],
   "source": [
    "from sklearn.model_selection import train_test_split\n",
    "train_data, test_data = train_test_split(ratings, test_size=0.5)\n",
    "print(test_data.head())"
   ]
  },
  {
   "cell_type": "code",
   "execution_count": 10,
   "metadata": {},
   "outputs": [
    {
     "name": "stdout",
     "output_type": "stream",
     "text": [
      "user_id   1    2    3    4    5    6    7    8    9    10  ...   91   92   \\\n",
      "movie_id                                                   ...              \n",
      "1         3.0  3.0  3.0  1.0  NaN  NaN  NaN  NaN  4.0  NaN ...   NaN  NaN   \n",
      "2         NaN  4.0  NaN  3.0  4.0  NaN  NaN  1.0  NaN  NaN ...   4.0  NaN   \n",
      "3         NaN  NaN  4.0  3.0  NaN  4.0  4.0  3.0  5.0  3.0 ...   4.0  NaN   \n",
      "4         NaN  NaN  3.0  NaN  4.0  NaN  NaN  NaN  5.0  4.0 ...   NaN  NaN   \n",
      "5         NaN  NaN  3.0  3.0  NaN  NaN  2.0  NaN  NaN  NaN ...   1.0  5.0   \n",
      "6         3.0  NaN  NaN  NaN  NaN  3.0  NaN  5.0  NaN  4.0 ...   NaN  NaN   \n",
      "7         NaN  NaN  3.0  NaN  NaN  4.0  5.0  3.0  2.0  NaN ...   NaN  NaN   \n",
      "8         NaN  4.0  4.0  3.0  NaN  4.0  5.0  NaN  NaN  NaN ...   NaN  NaN   \n",
      "9         NaN  NaN  NaN  NaN  4.0  NaN  NaN  NaN  3.0  NaN ...   4.0  3.0   \n",
      "10        NaN  NaN  3.0  5.0  NaN  NaN  NaN  NaN  3.0  NaN ...   5.0  NaN   \n",
      "11        NaN  NaN  NaN  NaN  NaN  NaN  NaN  NaN  NaN  NaN ...   NaN  NaN   \n",
      "12        NaN  NaN  NaN  1.0  NaN  3.0  NaN  NaN  NaN  2.0 ...   NaN  NaN   \n",
      "13        NaN  NaN  3.0  NaN  NaN  NaN  4.0  3.0  NaN  3.0 ...   3.0  NaN   \n",
      "14        NaN  NaN  4.0  NaN  3.0  NaN  4.0  4.0  NaN  NaN ...   NaN  3.0   \n",
      "15        NaN  NaN  NaN  NaN  NaN  NaN  NaN  5.0  NaN  NaN ...   NaN  NaN   \n",
      "16        4.0  4.0  NaN  NaN  4.0  5.0  NaN  NaN  2.0  NaN ...   NaN  NaN   \n",
      "17        NaN  4.0  NaN  4.0  4.0  NaN  3.0  NaN  4.0  NaN ...   4.0  NaN   \n",
      "18        4.0  4.0  NaN  NaN  NaN  NaN  2.0  NaN  NaN  5.0 ...   NaN  NaN   \n",
      "19        NaN  NaN  NaN  NaN  NaN  3.0  NaN  NaN  4.0  NaN ...   NaN  NaN   \n",
      "20        1.0  4.0  5.0  NaN  NaN  NaN  NaN  NaN  NaN  NaN ...   NaN  NaN   \n",
      "21        NaN  NaN  NaN  NaN  5.0  NaN  NaN  NaN  NaN  NaN ...   NaN  NaN   \n",
      "22        NaN  NaN  NaN  4.0  3.0  5.0  3.0  NaN  NaN  5.0 ...   NaN  4.0   \n",
      "23        NaN  NaN  4.0  3.0  NaN  4.0  NaN  NaN  4.0  NaN ...   NaN  NaN   \n",
      "24        NaN  NaN  NaN  NaN  5.0  NaN  3.0  NaN  4.0  NaN ...   NaN  4.0   \n",
      "25        3.0  NaN  NaN  NaN  2.0  3.0  5.0  NaN  NaN  3.0 ...   NaN  5.0   \n",
      "26        5.0  NaN  NaN  NaN  4.0  NaN  NaN  NaN  NaN  5.0 ...   5.0  4.0   \n",
      "27        5.0  NaN  NaN  3.0  1.0  NaN  NaN  5.0  NaN  4.0 ...   NaN  3.0   \n",
      "28        NaN  NaN  4.0  NaN  NaN  NaN  NaN  NaN  2.0  NaN ...   NaN  NaN   \n",
      "29        NaN  NaN  NaN  4.0  5.0  NaN  4.0  NaN  NaN  NaN ...   NaN  NaN   \n",
      "30        4.0  NaN  4.0  4.0  NaN  NaN  NaN  NaN  2.0  NaN ...   NaN  2.0   \n",
      "...       ...  ...  ...  ...  ...  ...  ...  ...  ...  ... ...   ...  ...   \n",
      "71        NaN  NaN  2.0  NaN  NaN  NaN  NaN  4.0  NaN  2.0 ...   NaN  NaN   \n",
      "72        NaN  NaN  NaN  NaN  3.0  NaN  NaN  NaN  NaN  NaN ...   NaN  NaN   \n",
      "73        NaN  4.0  NaN  NaN  NaN  2.0  NaN  NaN  2.0  1.0 ...   NaN  NaN   \n",
      "74        2.0  NaN  NaN  4.0  4.0  NaN  NaN  4.0  NaN  2.0 ...   2.0  NaN   \n",
      "75        2.0  4.0  NaN  1.0  NaN  NaN  4.0  NaN  NaN  NaN ...   NaN  NaN   \n",
      "76        4.0  NaN  5.0  NaN  NaN  NaN  NaN  NaN  NaN  NaN ...   NaN  5.0   \n",
      "77        2.0  5.0  NaN  4.0  3.0  NaN  2.0  NaN  NaN  NaN ...   NaN  NaN   \n",
      "78        NaN  3.0  NaN  NaN  5.0  4.0  NaN  NaN  4.0  NaN ...   3.0  NaN   \n",
      "79        5.0  4.0  NaN  NaN  NaN  NaN  NaN  NaN  NaN  4.0 ...   3.0  4.0   \n",
      "80        4.0  NaN  2.0  3.0  NaN  NaN  NaN  NaN  5.0  NaN ...   3.0  NaN   \n",
      "81        NaN  NaN  5.0  NaN  NaN  NaN  NaN  NaN  NaN  3.0 ...   3.0  5.0   \n",
      "82        3.0  NaN  NaN  NaN  3.0  NaN  NaN  2.0  NaN  NaN ...   NaN  NaN   \n",
      "83        NaN  NaN  NaN  NaN  3.0  3.0  3.0  2.0  NaN  NaN ...   3.0  3.0   \n",
      "84        NaN  5.0  4.0  5.0  3.0  NaN  3.0  NaN  4.0  3.0 ...   NaN  NaN   \n",
      "85        NaN  4.0  NaN  4.0  NaN  NaN  NaN  4.0  1.0  4.0 ...   NaN  5.0   \n",
      "86        NaN  4.0  NaN  NaN  4.0  NaN  3.0  NaN  NaN  NaN ...   1.0  NaN   \n",
      "87        NaN  NaN  NaN  2.0  5.0  5.0  4.0  1.0  5.0  4.0 ...   NaN  NaN   \n",
      "88        NaN  NaN  NaN  NaN  5.0  NaN  5.0  3.0  5.0  NaN ...   NaN  NaN   \n",
      "89        NaN  NaN  NaN  NaN  NaN  NaN  NaN  NaN  NaN  NaN ...   4.0  NaN   \n",
      "90        4.0  NaN  5.0  5.0  1.0  NaN  NaN  NaN  NaN  NaN ...   1.0  NaN   \n",
      "91        NaN  5.0  3.0  3.0  4.0  3.0  NaN  NaN  NaN  NaN ...   NaN  NaN   \n",
      "92        NaN  4.0  NaN  NaN  3.0  NaN  NaN  4.0  NaN  NaN ...   NaN  4.0   \n",
      "93        NaN  NaN  4.0  5.0  NaN  NaN  4.0  5.0  NaN  NaN ...   NaN  4.0   \n",
      "94        4.0  NaN  4.0  4.0  4.0  4.0  5.0  5.0  5.0  5.0 ...   4.0  4.0   \n",
      "95        3.0  NaN  3.0  NaN  NaN  NaN  NaN  NaN  NaN  NaN ...   NaN  NaN   \n",
      "96        3.0  NaN  4.0  4.0  NaN  3.0  5.0  5.0  1.0  NaN ...   2.0  NaN   \n",
      "97        4.0  2.0  NaN  NaN  5.0  NaN  5.0  4.0  NaN  4.0 ...   4.0  NaN   \n",
      "98        NaN  NaN  NaN  1.0  NaN  NaN  NaN  NaN  NaN  2.0 ...   3.0  5.0   \n",
      "99        NaN  NaN  NaN  NaN  NaN  NaN  3.0  NaN  NaN  NaN ...   NaN  3.0   \n",
      "100       1.0  NaN  4.0  5.0  NaN  NaN  NaN  5.0  4.0  1.0 ...   4.0  3.0   \n",
      "\n",
      "user_id   93   94   95   96   97   98   99   100  \n",
      "movie_id                                          \n",
      "1         NaN  4.0  NaN  NaN  4.0  NaN  NaN  4.0  \n",
      "2         NaN  NaN  NaN  4.0  NaN  NaN  NaN  NaN  \n",
      "3         2.0  NaN  NaN  NaN  5.0  NaN  NaN  NaN  \n",
      "4         NaN  NaN  NaN  4.0  4.0  5.0  NaN  5.0  \n",
      "5         4.0  NaN  NaN  1.0  1.0  3.0  NaN  NaN  \n",
      "6         1.0  4.0  NaN  NaN  NaN  3.0  NaN  NaN  \n",
      "7         NaN  NaN  NaN  NaN  5.0  4.0  NaN  NaN  \n",
      "8         NaN  NaN  NaN  5.0  NaN  NaN  4.0  2.0  \n",
      "9         3.0  NaN  NaN  4.0  NaN  NaN  NaN  NaN  \n",
      "10        2.0  NaN  4.0  NaN  NaN  4.0  NaN  NaN  \n",
      "11        5.0  3.0  3.0  NaN  NaN  NaN  NaN  NaN  \n",
      "12        NaN  5.0  NaN  5.0  NaN  4.0  3.0  NaN  \n",
      "13        NaN  NaN  NaN  NaN  NaN  5.0  2.0  NaN  \n",
      "14        NaN  NaN  NaN  NaN  NaN  NaN  NaN  NaN  \n",
      "15        NaN  NaN  2.0  NaN  NaN  NaN  NaN  3.0  \n",
      "16        NaN  NaN  3.0  3.0  3.0  NaN  4.0  NaN  \n",
      "17        4.0  NaN  NaN  NaN  NaN  3.0  NaN  4.0  \n",
      "18        4.0  NaN  4.0  NaN  NaN  NaN  NaN  NaN  \n",
      "19        2.0  4.0  NaN  1.0  4.0  4.0  2.0  NaN  \n",
      "20        NaN  4.0  NaN  NaN  NaN  3.0  4.0  4.0  \n",
      "21        NaN  NaN  2.0  2.0  NaN  NaN  NaN  NaN  \n",
      "22        NaN  1.0  NaN  NaN  NaN  3.0  4.0  4.0  \n",
      "23        NaN  NaN  NaN  3.0  NaN  NaN  NaN  NaN  \n",
      "24        NaN  NaN  5.0  1.0  NaN  NaN  NaN  4.0  \n",
      "25        NaN  3.0  3.0  NaN  3.0  NaN  NaN  1.0  \n",
      "26        4.0  4.0  NaN  3.0  NaN  NaN  NaN  NaN  \n",
      "27        5.0  NaN  3.0  NaN  3.0  3.0  NaN  3.0  \n",
      "28        3.0  3.0  2.0  NaN  2.0  NaN  2.0  2.0  \n",
      "29        NaN  NaN  NaN  5.0  NaN  NaN  3.0  NaN  \n",
      "30        5.0  NaN  NaN  NaN  NaN  NaN  5.0  4.0  \n",
      "...       ...  ...  ...  ...  ...  ...  ...  ...  \n",
      "71        4.0  NaN  NaN  NaN  2.0  3.0  NaN  NaN  \n",
      "72        3.0  4.0  NaN  NaN  NaN  3.0  5.0  NaN  \n",
      "73        4.0  NaN  NaN  NaN  3.0  5.0  NaN  4.0  \n",
      "74        5.0  NaN  3.0  NaN  3.0  NaN  3.0  4.0  \n",
      "75        NaN  NaN  NaN  NaN  4.0  NaN  4.0  NaN  \n",
      "76        4.0  4.0  NaN  NaN  4.0  NaN  NaN  NaN  \n",
      "77        NaN  2.0  5.0  5.0  NaN  3.0  NaN  NaN  \n",
      "78        4.0  NaN  NaN  NaN  NaN  NaN  NaN  3.0  \n",
      "79        3.0  3.0  NaN  4.0  NaN  5.0  NaN  NaN  \n",
      "80        5.0  NaN  NaN  NaN  5.0  NaN  NaN  5.0  \n",
      "81        NaN  5.0  4.0  NaN  NaN  NaN  4.0  4.0  \n",
      "82        NaN  NaN  NaN  5.0  3.0  NaN  NaN  NaN  \n",
      "83        NaN  NaN  NaN  NaN  5.0  2.0  NaN  NaN  \n",
      "84        5.0  NaN  NaN  4.0  5.0  NaN  2.0  NaN  \n",
      "85        NaN  5.0  NaN  2.0  NaN  NaN  NaN  NaN  \n",
      "86        3.0  NaN  NaN  NaN  NaN  1.0  NaN  NaN  \n",
      "87        NaN  NaN  NaN  NaN  4.0  NaN  1.0  NaN  \n",
      "88        NaN  NaN  3.0  NaN  5.0  NaN  4.0  5.0  \n",
      "89        NaN  NaN  NaN  NaN  NaN  NaN  NaN  NaN  \n",
      "90        NaN  4.0  4.0  NaN  NaN  5.0  NaN  4.0  \n",
      "91        4.0  4.0  NaN  2.0  1.0  4.0  NaN  NaN  \n",
      "92        3.0  2.0  NaN  4.0  2.0  4.0  NaN  NaN  \n",
      "93        2.0  NaN  NaN  4.0  3.0  NaN  NaN  3.0  \n",
      "94        5.0  4.0  3.0  4.0  4.0  NaN  4.0  NaN  \n",
      "95        NaN  NaN  NaN  1.0  NaN  NaN  NaN  NaN  \n",
      "96        3.0  NaN  NaN  3.0  NaN  4.0  NaN  NaN  \n",
      "97        3.0  5.0  5.0  NaN  5.0  NaN  4.0  4.0  \n",
      "98        4.0  5.0  3.0  5.0  4.0  4.0  NaN  NaN  \n",
      "99        NaN  NaN  3.0  NaN  4.0  NaN  NaN  5.0  \n",
      "100       NaN  NaN  NaN  NaN  NaN  NaN  NaN  5.0  \n",
      "\n",
      "[100 rows x 100 columns]\n"
     ]
    }
   ],
   "source": [
    "# Create two user-item matrices, one for training and another for testing\n",
    "train_data_matrix = train_data.pivot_table(index='movie_id', columns='user_id', values='rating').astype('float64')\n",
    "test_data_matrix = test_data.pivot_table(index='movie_id', columns='user_id', values='rating').astype('float64')\n",
    "print(test_data_matrix)"
   ]
  },
  {
   "cell_type": "code",
   "execution_count": 11,
   "metadata": {},
   "outputs": [
    {
     "name": "stdout",
     "output_type": "stream",
     "text": [
      "100\n",
      "(100, 100)\n",
      "[[ 0.          0.07137971  0.38859816 ... -0.28850821 -0.11249405\n",
      "   0.08034832]\n",
      " [ 0.07137971  0.          0.0921908  ... -0.21308849  0.18955068\n",
      "  -0.68453186]\n",
      " [ 0.38859816  0.0921908   0.         ... -0.19515261  0.16240475\n",
      "  -0.34494371]\n",
      " ...\n",
      " [-0.28850821 -0.21308849 -0.19515261 ...  0.         -0.01886325\n",
      "   0.65996591]\n",
      " [-0.11249405  0.18955068  0.16240475 ... -0.01886325  0.\n",
      "  -0.00765929]\n",
      " [ 0.08034832 -0.68453186 -0.34494371 ...  0.65996591 -0.00765929\n",
      "   0.        ]]\n",
      "(100, 100)\n"
     ]
    }
   ],
   "source": [
    "user_correlation = sim_matrix(train_data_matrix.values)\n",
    "user_correlation[np.isnan(user_correlation)] = 0\n",
    "print(user_correlation)\n",
    "print(user_correlation.shape)"
   ]
  },
  {
   "cell_type": "code",
   "execution_count": 12,
   "metadata": {},
   "outputs": [
    {
     "name": "stdout",
     "output_type": "stream",
     "text": [
      "100\n",
      "(100, 100)\n",
      "[[ 0.          0.2368592  -0.36467684 ...  0.21026521 -0.10886378\n",
      "   0.57142049]\n",
      " [ 0.2368592   0.         -0.15068957 ...  0.45896228 -0.1981424\n",
      "  -0.00936389]\n",
      " [-0.36467684 -0.15068957  0.         ...  0.21438342 -0.05621336\n",
      "   0.01630203]\n",
      " ...\n",
      " [ 0.21026521  0.45896228  0.21438342 ...  0.         -0.45603076\n",
      "   0.11844223]\n",
      " [-0.10886378 -0.1981424  -0.05621336 ... -0.45603076  0.\n",
      "  -0.01087008]\n",
      " [ 0.57142049 -0.00936389  0.01630203 ...  0.11844223 -0.01087008\n",
      "   0.        ]]\n",
      "(100, 100)\n"
     ]
    }
   ],
   "source": [
    "# Item Similarity Matrix\n",
    "item_correlation = sim_matrix(train_data_matrix.values, 'item')\n",
    "item_correlation[np.isnan(item_correlation)] = 0\n",
    "print(item_correlation)\n",
    "print(item_correlation.shape)"
   ]
  },
  {
   "cell_type": "code",
   "execution_count": 13,
   "metadata": {},
   "outputs": [],
   "source": [
    "def user_cf(M, sim_users):\n",
    "    pred = np.copy(M)\n",
    "    n_users, n_items = M.shape\n",
    "    avg_ratings = np.nanmean(M, axis=1)\n",
    "    for i in range(n_users):\n",
    "        for j in range(n_items):\n",
    "            if np.isnan(M[i,j]):\n",
    "                pred[i,j] = avg_ratings[i] + np.nansum(sim_users[i] * (M[:,j] - avg_ratings)) / sum(sim_users[i])\n",
    "    return pred"
   ]
  },
  {
   "cell_type": "code",
   "execution_count": 14,
   "metadata": {},
   "outputs": [],
   "source": [
    "def item_cf(M, sim_items):\n",
    "    pred = np.copy(M)\n",
    "    n_users, n_items = M.shape\n",
    "    avg_ratings = np.nanmean(M, axis=0)\n",
    "    for i in range(n_users):\n",
    "        for j in range(n_items):\n",
    "            if np.isnan(M[i,j]):\n",
    "                pred[i,j] = avg_ratings[j] + np.nansum(sim_items[j] * (M[i,:] - avg_ratings)) / sum(sim_items[j])\n",
    "    return pred"
   ]
  },
  {
   "cell_type": "code",
   "execution_count": 15,
   "metadata": {},
   "outputs": [],
   "source": [
    "# Function to predict ratings\n",
    "def predict(ratings, similarity, type='user'):\n",
    "    if type == 'user':\n",
    "        pred = user_cf(ratings, user_correlation)\n",
    "    elif type == 'item':\n",
    "        pred = item_cf(ratings, item_correlation)\n",
    "    return pred"
   ]
  },
  {
   "cell_type": "code",
   "execution_count": 16,
   "metadata": {},
   "outputs": [],
   "source": [
    "from sklearn.metrics import mean_squared_error\n",
    "from math import sqrt\n",
    "\n",
    "# Function to calculate RMSE\n",
    "def rmse(pred, actual):\n",
    "    return sqrt(np.nanmean(pred - actual)** 2)"
   ]
  },
  {
   "cell_type": "code",
   "execution_count": 17,
   "metadata": {},
   "outputs": [
    {
     "name": "stdout",
     "output_type": "stream",
     "text": [
      "User-based CF RMSE: 0.06540660471583047\n",
      "Item-based CF RMSE: 0.758456699100966\n"
     ]
    }
   ],
   "source": [
    "# Predict ratings on the training data with both similarity score\n",
    "user_prediction = predict(train_data_matrix.values, user_correlation, type='user')\n",
    "item_prediction = predict(train_data_matrix.values, item_correlation, type='item')\n",
    "\n",
    "# RMSE on the test data\n",
    "print('User-based CF RMSE: ' + str(rmse(user_prediction, test_data_matrix.values)))\n",
    "print('Item-based CF RMSE: ' + str(rmse(item_prediction, test_data_matrix.values)))"
   ]
  }
 ],
 "metadata": {
  "kernelspec": {
   "display_name": "Python 3",
   "language": "python",
   "name": "python3"
  },
  "language_info": {
   "codemirror_mode": {
    "name": "ipython",
    "version": 3
   },
   "file_extension": ".py",
   "mimetype": "text/x-python",
   "name": "python",
   "nbconvert_exporter": "python",
   "pygments_lexer": "ipython3",
   "version": "3.6.7"
  }
 },
 "nbformat": 4,
 "nbformat_minor": 2
}
