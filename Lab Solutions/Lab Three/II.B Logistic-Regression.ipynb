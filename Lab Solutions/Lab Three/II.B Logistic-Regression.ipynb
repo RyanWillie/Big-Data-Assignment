{
 "cells": [
  {
   "cell_type": "markdown",
   "metadata": {},
   "source": [
    "# Credit Card Fraud"
   ]
  },
  {
   "cell_type": "code",
   "execution_count": 26,
   "metadata": {},
   "outputs": [],
   "source": [
    "import numpy as np\n",
    "import sklearn as sk\n",
    "import pandas as pd\n",
    "import matplotlib.pyplot as plt\n",
    "from sklearn.metrics import confusion_matrix\n",
    "from sklearn.preprocessing import scale\n",
    "import random"
   ]
  },
  {
   "cell_type": "code",
   "execution_count": 8,
   "metadata": {},
   "outputs": [
    {
     "data": {
      "text/html": [
       "<div>\n",
       "<style scoped>\n",
       "    .dataframe tbody tr th:only-of-type {\n",
       "        vertical-align: middle;\n",
       "    }\n",
       "\n",
       "    .dataframe tbody tr th {\n",
       "        vertical-align: top;\n",
       "    }\n",
       "\n",
       "    .dataframe thead th {\n",
       "        text-align: right;\n",
       "    }\n",
       "</style>\n",
       "<table border=\"1\" class=\"dataframe\">\n",
       "  <thead>\n",
       "    <tr style=\"text-align: right;\">\n",
       "      <th></th>\n",
       "      <th>Time</th>\n",
       "      <th>V1</th>\n",
       "      <th>V2</th>\n",
       "      <th>V3</th>\n",
       "      <th>V4</th>\n",
       "      <th>V5</th>\n",
       "      <th>V6</th>\n",
       "      <th>V7</th>\n",
       "      <th>V8</th>\n",
       "      <th>V9</th>\n",
       "      <th>...</th>\n",
       "      <th>V21</th>\n",
       "      <th>V22</th>\n",
       "      <th>V23</th>\n",
       "      <th>V24</th>\n",
       "      <th>V25</th>\n",
       "      <th>V26</th>\n",
       "      <th>V27</th>\n",
       "      <th>V28</th>\n",
       "      <th>Amount</th>\n",
       "      <th>Class</th>\n",
       "    </tr>\n",
       "  </thead>\n",
       "  <tbody>\n",
       "    <tr>\n",
       "      <th>0</th>\n",
       "      <td>64022.0</td>\n",
       "      <td>-3.042733</td>\n",
       "      <td>-0.095973</td>\n",
       "      <td>1.654987</td>\n",
       "      <td>-3.196483</td>\n",
       "      <td>-0.253013</td>\n",
       "      <td>0.621261</td>\n",
       "      <td>2.360466</td>\n",
       "      <td>-1.529582</td>\n",
       "      <td>3.036032</td>\n",
       "      <td>...</td>\n",
       "      <td>-0.398805</td>\n",
       "      <td>0.923072</td>\n",
       "      <td>-0.351916</td>\n",
       "      <td>-0.248545</td>\n",
       "      <td>0.319969</td>\n",
       "      <td>-0.329902</td>\n",
       "      <td>-2.284933</td>\n",
       "      <td>-0.952947</td>\n",
       "      <td>193.50</td>\n",
       "      <td>0</td>\n",
       "    </tr>\n",
       "    <tr>\n",
       "      <th>1</th>\n",
       "      <td>68396.0</td>\n",
       "      <td>1.168415</td>\n",
       "      <td>-0.266023</td>\n",
       "      <td>1.007399</td>\n",
       "      <td>0.770831</td>\n",
       "      <td>-0.894529</td>\n",
       "      <td>-0.021520</td>\n",
       "      <td>-0.614770</td>\n",
       "      <td>0.108002</td>\n",
       "      <td>0.991554</td>\n",
       "      <td>...</td>\n",
       "      <td>-0.111658</td>\n",
       "      <td>-0.189854</td>\n",
       "      <td>-0.050081</td>\n",
       "      <td>-0.082883</td>\n",
       "      <td>0.304962</td>\n",
       "      <td>0.345927</td>\n",
       "      <td>0.010382</td>\n",
       "      <td>0.026046</td>\n",
       "      <td>33.67</td>\n",
       "      <td>0</td>\n",
       "    </tr>\n",
       "    <tr>\n",
       "      <th>2</th>\n",
       "      <td>105479.0</td>\n",
       "      <td>-0.394283</td>\n",
       "      <td>1.119093</td>\n",
       "      <td>-0.520858</td>\n",
       "      <td>-0.910873</td>\n",
       "      <td>1.980528</td>\n",
       "      <td>-1.177091</td>\n",
       "      <td>1.887469</td>\n",
       "      <td>-0.622840</td>\n",
       "      <td>0.258496</td>\n",
       "      <td>...</td>\n",
       "      <td>0.225408</td>\n",
       "      <td>0.966848</td>\n",
       "      <td>-0.565173</td>\n",
       "      <td>0.672554</td>\n",
       "      <td>0.898117</td>\n",
       "      <td>0.385881</td>\n",
       "      <td>-0.016541</td>\n",
       "      <td>0.098275</td>\n",
       "      <td>21.19</td>\n",
       "      <td>0</td>\n",
       "    </tr>\n",
       "    <tr>\n",
       "      <th>3</th>\n",
       "      <td>62501.0</td>\n",
       "      <td>1.245674</td>\n",
       "      <td>0.166975</td>\n",
       "      <td>0.488306</td>\n",
       "      <td>0.635322</td>\n",
       "      <td>-0.562777</td>\n",
       "      <td>-1.011073</td>\n",
       "      <td>0.014953</td>\n",
       "      <td>-0.160211</td>\n",
       "      <td>0.170362</td>\n",
       "      <td>...</td>\n",
       "      <td>-0.262581</td>\n",
       "      <td>-0.816264</td>\n",
       "      <td>0.140304</td>\n",
       "      <td>0.357827</td>\n",
       "      <td>0.186423</td>\n",
       "      <td>0.096544</td>\n",
       "      <td>-0.035866</td>\n",
       "      <td>0.018495</td>\n",
       "      <td>8.99</td>\n",
       "      <td>0</td>\n",
       "    </tr>\n",
       "    <tr>\n",
       "      <th>4</th>\n",
       "      <td>155793.0</td>\n",
       "      <td>2.235363</td>\n",
       "      <td>-1.377807</td>\n",
       "      <td>-0.206124</td>\n",
       "      <td>-1.454186</td>\n",
       "      <td>-1.690667</td>\n",
       "      <td>-0.751144</td>\n",
       "      <td>-1.320413</td>\n",
       "      <td>-0.217918</td>\n",
       "      <td>-1.117415</td>\n",
       "      <td>...</td>\n",
       "      <td>-0.333843</td>\n",
       "      <td>-0.425307</td>\n",
       "      <td>0.420460</td>\n",
       "      <td>0.021505</td>\n",
       "      <td>-0.558638</td>\n",
       "      <td>-0.451314</td>\n",
       "      <td>0.049913</td>\n",
       "      <td>-0.028614</td>\n",
       "      <td>25.90</td>\n",
       "      <td>0</td>\n",
       "    </tr>\n",
       "  </tbody>\n",
       "</table>\n",
       "<p>5 rows × 31 columns</p>\n",
       "</div>"
      ],
      "text/plain": [
       "       Time        V1        V2        V3        V4        V5        V6  \\\n",
       "0   64022.0 -3.042733 -0.095973  1.654987 -3.196483 -0.253013  0.621261   \n",
       "1   68396.0  1.168415 -0.266023  1.007399  0.770831 -0.894529 -0.021520   \n",
       "2  105479.0 -0.394283  1.119093 -0.520858 -0.910873  1.980528 -1.177091   \n",
       "3   62501.0  1.245674  0.166975  0.488306  0.635322 -0.562777 -1.011073   \n",
       "4  155793.0  2.235363 -1.377807 -0.206124 -1.454186 -1.690667 -0.751144   \n",
       "\n",
       "         V7        V8        V9  ...         V21       V22       V23  \\\n",
       "0  2.360466 -1.529582  3.036032  ...   -0.398805  0.923072 -0.351916   \n",
       "1 -0.614770  0.108002  0.991554  ...   -0.111658 -0.189854 -0.050081   \n",
       "2  1.887469 -0.622840  0.258496  ...    0.225408  0.966848 -0.565173   \n",
       "3  0.014953 -0.160211  0.170362  ...   -0.262581 -0.816264  0.140304   \n",
       "4 -1.320413 -0.217918 -1.117415  ...   -0.333843 -0.425307  0.420460   \n",
       "\n",
       "        V24       V25       V26       V27       V28  Amount  Class  \n",
       "0 -0.248545  0.319969 -0.329902 -2.284933 -0.952947  193.50      0  \n",
       "1 -0.082883  0.304962  0.345927  0.010382  0.026046   33.67      0  \n",
       "2  0.672554  0.898117  0.385881 -0.016541  0.098275   21.19      0  \n",
       "3  0.357827  0.186423  0.096544 -0.035866  0.018495    8.99      0  \n",
       "4  0.021505 -0.558638 -0.451314  0.049913 -0.028614   25.90      0  \n",
       "\n",
       "[5 rows x 31 columns]"
      ]
     },
     "execution_count": 8,
     "metadata": {},
     "output_type": "execute_result"
    }
   ],
   "source": [
    "df = pd.read_csv('creditcard.csv', low_memory=False)\n",
    "df = df.sample(frac=1).reset_index(drop=True)\n",
    "df.head()"
   ]
  },
  {
   "cell_type": "code",
   "execution_count": 11,
   "metadata": {},
   "outputs": [
    {
     "name": "stdout",
     "output_type": "stream",
     "text": [
      "492 frauds,  284315 nonfrauds.\n"
     ]
    }
   ],
   "source": [
    "frauds = df.loc[df['Class'] == 1]\n",
    "non_frauds = df.loc[df['Class'] == 0]\n",
    "print(len(frauds), \"frauds, \", len(non_frauds), \"nonfrauds.\")"
   ]
  },
  {
   "cell_type": "code",
   "execution_count": 13,
   "metadata": {},
   "outputs": [
    {
     "data": {
      "image/png": "[encoded data removed]",
      "text/plain": [
       "<Figure size 432x288 with 1 Axes>"
      ]
     },
     "metadata": {
      "needs_background": "light"
     },
     "output_type": "display_data"
    }
   ],
   "source": [
    "ax = frauds.plot.scatter(x='Amount', y='Class', color='Orange', label='Fraud')\n",
    "non_frauds.plot.scatter(x='Amount', y='Class', color='Blue', label='Normal', ax=ax)\n",
    "plt.show()"
   ]
  },
  {
   "cell_type": "code",
   "execution_count": 14,
   "metadata": {},
   "outputs": [],
   "source": [
    "from sklearn import datasets, linear_model\n",
    "from sklearn.model_selection import train_test_split"
   ]
  },
  {
   "cell_type": "code",
   "execution_count": 38,
   "metadata": {},
   "outputs": [
    {
     "name": "stdout",
     "output_type": "stream",
     "text": [
      "[284807]\n",
      "[284807]\n"
     ]
    }
   ],
   "source": [
    "X = df.iloc[:,:-1]\n",
    "y = df['Class']\n",
    "X_train, X_test, y_train, y_test = train_test_split(X, y, test_size=0.35)\n"
   ]
  },
  {
   "cell_type": "code",
   "execution_count": 39,
   "metadata": {},
   "outputs": [
    {
     "name": "stderr",
     "output_type": "stream",
     "text": [
      "C:\\ProgramData\\Anaconda3\\lib\\site-packages\\sklearn\\linear_model\\logistic.py:433: FutureWarning: Default solver will be changed to 'lbfgs' in 0.22. Specify a solver to silence this warning.\n",
      "  FutureWarning)\n"
     ]
    },
    {
     "name": "stdout",
     "output_type": "stream",
     "text": [
      "[185124]\n",
      "[99683]\n",
      "[99683]\n",
      "Accuracy:  0.998735993098121\n"
     ]
    }
   ],
   "source": [
    "logistic = linear_model.LogisticRegression()\n",
    "logistic.fit(X_train, y_train)\n",
    "print(\"Accuracy: \", logistic.score(X_test, y_test))"
   ]
  },
  {
   "cell_type": "code",
   "execution_count": 40,
   "metadata": {},
   "outputs": [
    {
     "name": "stdout",
     "output_type": "stream",
     "text": [
      "[99683]\n",
      "[99683]\n"
     ]
    },
    {
     "data": {
      "text/plain": [
       "Text(0.5, 42.0, 'Predicted label')"
      ]
     },
     "execution_count": 40,
     "metadata": {},
     "output_type": "execute_result"
    },
    {
     "data": {
      "image/png": "[encoded data removed]",
      "text/plain": [
       "<Figure size 720x504 with 2 Axes>"
      ]
     },
     "metadata": {
      "needs_background": "light"
     },
     "output_type": "display_data"
    }
   ],
   "source": [
    "import seaborn as sns\n",
    "y_predicted = logistic.predict(X_test)\n",
    "plt.figure(figsize=(10,7))\n",
    "cm = confusion_matrix(y_test, y_predicted)\n",
    "ax = sns.heatmap(cm, annot=True, fmt=\"d\")\n",
    "plt.ylabel('True label')\n",
    "plt.xlabel('Predicted label')\n"
   ]
  }
 ],
 "metadata": {
  "anaconda-cloud": {},
  "kernelspec": {
   "display_name": "Python 3",
   "language": "python",
   "name": "python3"
  },
  "language_info": {
   "codemirror_mode": {
    "name": "ipython",
    "version": 3
   },
   "file_extension": ".py",
   "mimetype": "text/x-python",
   "name": "python",
   "nbconvert_exporter": "python",
   "pygments_lexer": "ipython3",
   "version": "3.6.7"
  }
 },
 "nbformat": 4,
 "nbformat_minor": 1
}
