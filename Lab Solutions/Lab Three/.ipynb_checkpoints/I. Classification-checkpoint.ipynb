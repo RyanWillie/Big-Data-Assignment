{
 "cells": [
  {
   "cell_type": "markdown",
   "metadata": {},
   "source": [
    "# I. Classification"
   ]
  },
  {
   "cell_type": "code",
   "execution_count": 1,
   "metadata": {},
   "outputs": [
    {
     "name": "stdout",
     "output_type": "stream",
     "text": [
      "(1797, 8, 8)\n",
      "(1797, 64)\n"
     ]
    },
    {
     "data": {
      "text/plain": [
       "<Figure size 640x480 with 1 Axes>"
      ]
     },
     "metadata": {},
     "output_type": "display_data"
    }
   ],
   "source": [
    "# Import necessary modules\n",
    "from sklearn import datasets\n",
    "import matplotlib.pyplot as plt\n",
    "\n",
    "# Load the digits dataset: digits\n",
    "digits = datasets.load_digits()\n",
    "\n",
    "# Print the shape of the images and data keys\n",
    "print(digits.images.shape)\n",
    "print(digits.data.shape)\n",
    "\n",
    "# Display image 1010\n",
    "plt.imshow(digits.images[1010], cmap=plt.cm.gray_r, interpolation='nearest')\n",
    "plt.show()"
   ]
  },
  {
   "cell_type": "markdown",
   "metadata": {},
   "source": [
    "# 1. KNN - K Nearest Neighbors"
   ]
  },
  {
   "cell_type": "code",
   "execution_count": 2,
   "metadata": {},
   "outputs": [
    {
     "name": "stdout",
     "output_type": "stream",
     "text": [
      "[1797]\n",
      "[1797]\n",
      "[1437]\n",
      "[360]\n",
      "[360]\n",
      "Accuracy: 0.9833333333333333\n"
     ]
    }
   ],
   "source": [
    "# Import necessary modules\n",
    "from sklearn.neighbors import KNeighborsClassifier \n",
    "from sklearn.model_selection import train_test_split\n",
    "import numpy as np\n",
    "\n",
    "# Create feature and target arrays\n",
    "feature = digits.data\n",
    "target  = digits.target\n",
    "\n",
    "# Split into training and test set\n",
    "feature_train, feature_test, target_train, target_test = train_test_split(feature, target, test_size = 0.2, random_state=42, stratify=target)\n",
    "\n",
    "# Create a k-NN classifier with 7 neighbors: knn\n",
    "knn = KNeighborsClassifier(n_neighbors=7)\n",
    "\n",
    "# Fit the classifier to the training data\n",
    "knn.fit(feature_train, target_train)\n",
    "\n",
    "# Print the accuracy\n",
    "print(\"Accuracy: {0}\".format(knn.score(feature_test, target_test)))"
   ]
  },
  {
   "cell_type": "markdown",
   "metadata": {},
   "source": [
    "# 1.1. KNN - Varying number of neighbors"
   ]
  },
  {
   "cell_type": "code",
   "execution_count": 3,
   "metadata": {},
   "outputs": [
    {
     "name": "stdout",
     "output_type": "stream",
     "text": [
      "[1437]\n",
      "[1437]\n",
      "[1437]\n",
      "[360]\n",
      "[360]\n",
      "[1437]\n",
      "[1437]\n",
      "[1437]\n",
      "[360]\n",
      "[360]\n",
      "[1437]\n",
      "[1437]\n",
      "[1437]\n",
      "[360]\n",
      "[360]\n",
      "[1437]\n",
      "[1437]\n",
      "[1437]\n",
      "[360]\n",
      "[360]\n",
      "[1437]\n",
      "[1437]\n",
      "[1437]\n",
      "[360]\n",
      "[360]\n",
      "[1437]\n",
      "[1437]\n",
      "[1437]\n",
      "[360]\n",
      "[360]\n",
      "[1437]\n",
      "[1437]\n",
      "[1437]\n",
      "[360]\n",
      "[360]\n",
      "[1437]\n",
      "[1437]\n",
      "[1437]\n",
      "[360]\n",
      "[360]\n"
     ]
    },
    {
     "data": {
      "image/png": "[encoded data removed]",
      "text/plain": [
       "<Figure size 432x288 with 1 Axes>"
      ]
     },
     "metadata": {
      "needs_background": "light"
     },
     "output_type": "display_data"
    }
   ],
   "source": [
    "# Setup arrays to store train and test accuracies\n",
    "neighbors = np.arange(1, 9)\n",
    "train_accuracy = np.empty(len(neighbors))\n",
    "test_accuracy = np.empty(len(neighbors))\n",
    "\n",
    "# Loop over different values of k\n",
    "for i, k in enumerate(neighbors):\n",
    "    # Setup a k-NN Classifier with k neighbors: knn\n",
    "    knn = KNeighborsClassifier(n_neighbors=k)\n",
    "\n",
    "    # Fit the classifier to the training data\n",
    "    knn.fit(feature_train, target_train)\n",
    "    \n",
    "    #Compute accuracy on the training set\n",
    "    train_accuracy[i] = knn.score(feature_train, target_train)\n",
    "\n",
    "    #Compute accuracy on the testing set\n",
    "    test_accuracy[i] = knn.score(feature_test, target_test)\n",
    "\n",
    "# Generate plot\n",
    "plt.title('k-NN: Varying Number of Neighbors')\n",
    "plt.plot(neighbors, test_accuracy, label = 'Testing Accuracy')\n",
    "plt.plot(neighbors, train_accuracy, label = 'Training Accuracy')\n",
    "plt.legend()\n",
    "plt.xlabel('Number of Neighbors')\n",
    "plt.ylabel('Accuracy')\n",
    "plt.show()"
   ]
  },
  {
   "cell_type": "markdown",
   "metadata": {},
   "source": [
    "# Linear Regression"
   ]
  },
  {
   "cell_type": "code",
   "execution_count": 4,
   "metadata": {},
   "outputs": [
    {
     "name": "stdout",
     "output_type": "stream",
     "text": [
      "[1437]\n",
      "[360]\n",
      "[360]\n",
      "Accuracy: 0.5573648498265342\n"
     ]
    }
   ],
   "source": [
    "# Linear regression\n",
    "from sklearn.linear_model import LinearRegression\n",
    "\n",
    "# create linear regression classifier\n",
    "lr = LinearRegression(normalize=True)\n",
    "\n",
    "# Fit the classifier with training data\n",
    "lr.fit(feature_train, target_train)\n",
    "\n",
    "#print the accuracy\n",
    "print(\"Accuracy: {0}\".format(lr.score(feature_test, target_test)))"
   ]
  },
  {
   "cell_type": "markdown",
   "metadata": {},
   "source": [
    "# 2. SVM"
   ]
  },
  {
   "cell_type": "code",
   "execution_count": 5,
   "metadata": {},
   "outputs": [
    {
     "name": "stdout",
     "output_type": "stream",
     "text": [
      "[1437]\n",
      "[360]\n",
      "[360]\n",
      "[360]\n",
      "[360]\n",
      "[360]\n",
      "[360]\n",
      "[360]\n",
      "[360]\n",
      "[360]\n",
      "Classification report for classifier SVC(C=1.0, cache_size=200, class_weight=None, coef0=0.0,\n",
      "  decision_function_shape='ovr', degree=3, gamma='auto_deprecated',\n",
      "  kernel='linear', max_iter=-1, probability=False, random_state=None,\n",
      "  shrinking=True, tol=0.001, verbose=False):\n",
      "              precision    recall  f1-score   support\n",
      "\n",
      "           0       1.00      1.00      1.00        36\n",
      "           1       0.92      0.94      0.93        36\n",
      "           2       1.00      1.00      1.00        35\n",
      "           3       1.00      0.97      0.99        37\n",
      "           4       1.00      1.00      1.00        36\n",
      "           5       1.00      1.00      1.00        37\n",
      "           6       1.00      0.97      0.99        36\n",
      "           7       0.97      1.00      0.99        36\n",
      "           8       0.94      0.89      0.91        35\n",
      "           9       0.95      1.00      0.97        36\n",
      "\n",
      "   micro avg       0.98      0.98      0.98       360\n",
      "   macro avg       0.98      0.98      0.98       360\n",
      "weighted avg       0.98      0.98      0.98       360\n",
      "\n",
      "\n"
     ]
    }
   ],
   "source": [
    "# Support vector machine\n",
    "from sklearn.svm import SVC\n",
    "from sklearn import metrics\n",
    "# create SVM\n",
    "svm = SVC(kernel='linear')\n",
    "\n",
    "#Fit the training data\n",
    "svm.fit(feature_train, target_train)\n",
    "predicted = svm.predict(feature_test)\n",
    "print(\"Classification report for classifier %s:\\n%s\\n\"\n",
    "      % (svm, metrics.classification_report(target_test, predicted)))\n"
   ]
  },
  {
   "cell_type": "markdown",
   "metadata": {},
   "source": [
    "# 3. Naive Bayes"
   ]
  },
  {
   "cell_type": "code",
   "execution_count": 6,
   "metadata": {},
   "outputs": [
    {
     "name": "stdout",
     "output_type": "stream",
     "text": [
      "[1437]\n",
      "[1437]\n",
      "[360]\n",
      "[360]\n",
      "Accuracy: 0.8111111111111111\n",
      "[360]\n",
      "[360]\n"
     ]
    },
    {
     "data": {
      "text/plain": [
       "Text(0.5, 42.0, 'Predicted label')"
      ]
     },
     "execution_count": 6,
     "metadata": {},
     "output_type": "execute_result"
    },
    {
     "data": {
      "image/png": "[encoded data removed]",
      "text/plain": [
       "<Figure size 720x504 with 2 Axes>"
      ]
     },
     "metadata": {
      "needs_background": "light"
     },
     "output_type": "display_data"
    }
   ],
   "source": [
    "# Naive bayes \n",
    "from sklearn.naive_bayes import GaussianNB\n",
    "\n",
    "# init the model\n",
    "bayes = GaussianNB()\n",
    "\n",
    "# Fit with the training data\n",
    "bayes.fit(feature_train, target_train)\n",
    "# print the result\n",
    "print(\"Accuracy: {0}\".format(bayes.score(feature_test, target_test)))\n",
    "\n",
    "#confusion matrix\n",
    "from sklearn.metrics import confusion_matrix\n",
    "import seaborn as sns\n",
    "predicted = bayes.predict(feature_test)\n",
    "plt.figure(figsize=(10,7))\n",
    "cm = confusion_matrix(target_test, predicted)\n",
    "ax = sns.heatmap(cm, annot=True, fmt=\"d\")\n",
    "plt.ylabel('True label')\n",
    "plt.xlabel('Predicted label')\n",
    "\n"
   ]
  },
  {
   "cell_type": "markdown",
   "metadata": {},
   "source": [
    "# 4. Model Evaluation"
   ]
  },
  {
   "cell_type": "markdown",
   "metadata": {},
   "source": [
    "### 4.1 Quantitative Comparison"
   ]
  },
  {
   "cell_type": "code",
   "execution_count": 7,
   "metadata": {},
   "outputs": [
    {
     "name": "stdout",
     "output_type": "stream",
     "text": [
      "[360]\n",
      "[360]\n",
      "[360]\n",
      "[360]\n",
      "[360]\n",
      "[360]\n",
      "[360]\n",
      "[360]\n"
     ]
    },
    {
     "data": {
      "image/png": "[encoded data removed]",
      "text/plain": [
       "<Figure size 432x288 with 1 Axes>"
      ]
     },
     "metadata": {
      "needs_background": "light"
     },
     "output_type": "display_data"
    }
   ],
   "source": [
    "# Compare the accuracy of different classifiers in the same plot.\n",
    "knn_acc = knn.score(feature_test, target_test)\n",
    "lr_acc  = lr.score(feature_test, target_test)\n",
    "svm_acc = svm.score(feature_test, target_test)\n",
    "bayes_acc = bayes.score(feature_test, target_test)\n",
    "\n",
    "x = [\"Bayes\", \"KNN\", \"SVM\"]\n",
    "y = [bayes_acc, knn_acc, svm_acc]\n",
    "\n",
    "plt.xlabel('Classifier')\n",
    "plt.ylabel('Accuracy')\n",
    "plt.bar(x, y, align='center') \n",
    "plt.show()"
   ]
  }
 ],
 "metadata": {
  "kernelspec": {
   "display_name": "Python 3",
   "language": "python",
   "name": "python3"
  },
  "language_info": {
   "codemirror_mode": {
    "name": "ipython",
    "version": 3
   },
   "file_extension": ".py",
   "mimetype": "text/x-python",
   "name": "python",
   "nbconvert_exporter": "python",
   "pygments_lexer": "ipython3",
   "version": "3.8.5"
  }
 },
 "nbformat": 4,
 "nbformat_minor": 2
}
