{
 "cells": [
  {
   "cell_type": "code",
   "execution_count": 1,
   "metadata": {},
   "outputs": [],
   "source": [
    "import pandas as pd"
   ]
  },
  {
   "cell_type": "code",
   "execution_count": 2,
   "metadata": {},
   "outputs": [],
   "source": [
    "df = pd.read_csv(\"data.csv\", low_memory=False)"
   ]
  },
  {
   "cell_type": "code",
   "execution_count": 3,
   "metadata": {},
   "outputs": [
    {
     "data": {
      "text/plain": [
       "Id                   object\n",
       "Title                object\n",
       "Company              object\n",
       "Date                 object\n",
       "Location             object\n",
       "Area                 object\n",
       "Classification       object\n",
       "SubClassification    object\n",
       "Requirement          object\n",
       "FullDescription      object\n",
       "LowestSalary          int64\n",
       "HighestSalary         int64\n",
       "JobType              object\n",
       "dtype: object"
      ]
     },
     "execution_count": 3,
     "metadata": {},
     "output_type": "execute_result"
    }
   ],
   "source": [
    "df.dtypes"
   ]
  },
  {
   "cell_type": "code",
   "execution_count": 4,
   "metadata": {},
   "outputs": [
    {
     "data": {
      "text/plain": [
       "Id                           object\n",
       "Title                        object\n",
       "Company                      object\n",
       "Date                 datetime64[ns]\n",
       "Location                     object\n",
       "Area                         object\n",
       "Classification               object\n",
       "SubClassification            object\n",
       "Requirement                  object\n",
       "FullDescription              object\n",
       "LowestSalary                  int64\n",
       "HighestSalary                 int64\n",
       "JobType                      object\n",
       "AverageSalary               float64\n",
       "dtype: object"
      ]
     },
     "execution_count": 4,
     "metadata": {},
     "output_type": "execute_result"
    }
   ],
   "source": [
    "df[\"Date\"] = df[\"Date\"].replace(to_replace=r'T.*', value='', regex=True)\n",
    "df[\"Date\"] = pd.to_datetime(df[\"Date\"])\n",
    "df = df.assign(AverageSalary= (df[\"LowestSalary\"] + df[\"HighestSalary\"])/2 )\n",
    "df.dtypes"
   ]
  },
  {
   "cell_type": "code",
   "execution_count": 5,
   "metadata": {},
   "outputs": [
    {
     "name": "stdout",
     "output_type": "stream",
     "text": [
      "Un-Cleaned Dataset General Info:\n",
      "~~~~~~~~~~~~~~~~~~~~~~\n",
      "Unique Listings:\t 318477\n",
      "Unique Job Categories:\t 31\n",
      "Unique Job Titles:\t 168065\n",
      "Unique Job Fields:\t 339\n",
      "Unique Companies:\t 40629\n",
      "Unique Cities:\t\t 66\n",
      "Unique Suburbs:\t\t 20\n",
      "Unique Contract Types:\t 5\n"
     ]
    },
    {
     "data": {
      "text/html": [
       "<div>\n",
       "<style scoped>\n",
       "    .dataframe tbody tr th:only-of-type {\n",
       "        vertical-align: middle;\n",
       "    }\n",
       "\n",
       "    .dataframe tbody tr th {\n",
       "        vertical-align: top;\n",
       "    }\n",
       "\n",
       "    .dataframe thead th {\n",
       "        text-align: right;\n",
       "    }\n",
       "</style>\n",
       "<table border=\"1\" class=\"dataframe\">\n",
       "  <thead>\n",
       "    <tr style=\"text-align: right;\">\n",
       "      <th></th>\n",
       "      <th>Id</th>\n",
       "      <th>Title</th>\n",
       "      <th>Company</th>\n",
       "      <th>Date</th>\n",
       "      <th>Location</th>\n",
       "      <th>Area</th>\n",
       "      <th>Classification</th>\n",
       "      <th>SubClassification</th>\n",
       "      <th>Requirement</th>\n",
       "      <th>FullDescription</th>\n",
       "      <th>LowestSalary</th>\n",
       "      <th>HighestSalary</th>\n",
       "      <th>JobType</th>\n",
       "      <th>AverageSalary</th>\n",
       "    </tr>\n",
       "  </thead>\n",
       "  <tbody>\n",
       "    <tr>\n",
       "      <td>0</td>\n",
       "      <td>37404348</td>\n",
       "      <td>Casual Stock Replenisher</td>\n",
       "      <td>Aldi Stores</td>\n",
       "      <td>2018-10-07</td>\n",
       "      <td>Sydney</td>\n",
       "      <td>North West &amp; Hills District</td>\n",
       "      <td>Retail &amp; Consumer Products</td>\n",
       "      <td>Retail Assistants</td>\n",
       "      <td>Our Casual Stock Replenishers pride themselves...</td>\n",
       "      <td>NaN</td>\n",
       "      <td>0</td>\n",
       "      <td>30</td>\n",
       "      <td>NaN</td>\n",
       "      <td>15.0</td>\n",
       "    </tr>\n",
       "    <tr>\n",
       "      <td>1</td>\n",
       "      <td>37404337</td>\n",
       "      <td>Casual Stock Replenisher</td>\n",
       "      <td>Aldi Stores</td>\n",
       "      <td>2018-10-07</td>\n",
       "      <td>Richmond &amp; Hawkesbury</td>\n",
       "      <td>NaN</td>\n",
       "      <td>Retail &amp; Consumer Products</td>\n",
       "      <td>Retail Assistants</td>\n",
       "      <td>Our Casual Stock Replenishers pride themselves...</td>\n",
       "      <td>NaN</td>\n",
       "      <td>0</td>\n",
       "      <td>30</td>\n",
       "      <td>NaN</td>\n",
       "      <td>15.0</td>\n",
       "    </tr>\n",
       "    <tr>\n",
       "      <td>2</td>\n",
       "      <td>37404356</td>\n",
       "      <td>RETAIL SALES SUPERSTARS and STYLISTS Wanted - ...</td>\n",
       "      <td>LB Creative Pty Ltd</td>\n",
       "      <td>2018-10-07</td>\n",
       "      <td>Brisbane</td>\n",
       "      <td>CBD &amp; Inner Suburbs</td>\n",
       "      <td>Retail &amp; Consumer Products</td>\n",
       "      <td>Retail Assistants</td>\n",
       "      <td>BRAND NEW FLAGSHIP STORE OPENING - SUNSHINE PLAZA</td>\n",
       "      <td>NaN</td>\n",
       "      <td>0</td>\n",
       "      <td>30</td>\n",
       "      <td>NaN</td>\n",
       "      <td>15.0</td>\n",
       "    </tr>\n",
       "    <tr>\n",
       "      <td>3</td>\n",
       "      <td>37404330</td>\n",
       "      <td>Team member - Belrose</td>\n",
       "      <td>Anaconda Group Pty Ltd</td>\n",
       "      <td>2018-10-07</td>\n",
       "      <td>Gosford &amp; Central Coast</td>\n",
       "      <td>NaN</td>\n",
       "      <td>Retail &amp; Consumer Products</td>\n",
       "      <td>Retail Assistants</td>\n",
       "      <td>Bring it on - do you love the great outdoors a...</td>\n",
       "      <td>NaN</td>\n",
       "      <td>0</td>\n",
       "      <td>30</td>\n",
       "      <td>NaN</td>\n",
       "      <td>15.0</td>\n",
       "    </tr>\n",
       "    <tr>\n",
       "      <td>4</td>\n",
       "      <td>37404308</td>\n",
       "      <td>Business Banking Contact Centre Specialist, Ni...</td>\n",
       "      <td>Commonwealth Bank - Business &amp; Private Banking</td>\n",
       "      <td>2018-10-07</td>\n",
       "      <td>Sydney</td>\n",
       "      <td>Ryde &amp; Macquarie Park</td>\n",
       "      <td>Call Centre &amp; Customer Service</td>\n",
       "      <td>Sales - Inbound</td>\n",
       "      <td>We are seeking highly articulate, enthusiastic...</td>\n",
       "      <td>NaN</td>\n",
       "      <td>0</td>\n",
       "      <td>30</td>\n",
       "      <td>NaN</td>\n",
       "      <td>15.0</td>\n",
       "    </tr>\n",
       "  </tbody>\n",
       "</table>\n",
       "</div>"
      ],
      "text/plain": [
       "         Id                                              Title  \\\n",
       "0  37404348                           Casual Stock Replenisher   \n",
       "1  37404337                           Casual Stock Replenisher   \n",
       "2  37404356  RETAIL SALES SUPERSTARS and STYLISTS Wanted - ...   \n",
       "3  37404330                              Team member - Belrose   \n",
       "4  37404308  Business Banking Contact Centre Specialist, Ni...   \n",
       "\n",
       "                                          Company       Date  \\\n",
       "0                                     Aldi Stores 2018-10-07   \n",
       "1                                     Aldi Stores 2018-10-07   \n",
       "2                             LB Creative Pty Ltd 2018-10-07   \n",
       "3                          Anaconda Group Pty Ltd 2018-10-07   \n",
       "4  Commonwealth Bank - Business & Private Banking 2018-10-07   \n",
       "\n",
       "                  Location                         Area  \\\n",
       "0                   Sydney  North West & Hills District   \n",
       "1    Richmond & Hawkesbury                          NaN   \n",
       "2                 Brisbane          CBD & Inner Suburbs   \n",
       "3  Gosford & Central Coast                          NaN   \n",
       "4                   Sydney        Ryde & Macquarie Park   \n",
       "\n",
       "                   Classification  SubClassification  \\\n",
       "0      Retail & Consumer Products  Retail Assistants   \n",
       "1      Retail & Consumer Products  Retail Assistants   \n",
       "2      Retail & Consumer Products  Retail Assistants   \n",
       "3      Retail & Consumer Products  Retail Assistants   \n",
       "4  Call Centre & Customer Service    Sales - Inbound   \n",
       "\n",
       "                                         Requirement FullDescription  \\\n",
       "0  Our Casual Stock Replenishers pride themselves...             NaN   \n",
       "1  Our Casual Stock Replenishers pride themselves...             NaN   \n",
       "2  BRAND NEW FLAGSHIP STORE OPENING - SUNSHINE PLAZA             NaN   \n",
       "3  Bring it on - do you love the great outdoors a...             NaN   \n",
       "4  We are seeking highly articulate, enthusiastic...             NaN   \n",
       "\n",
       "   LowestSalary  HighestSalary JobType  AverageSalary  \n",
       "0             0             30     NaN           15.0  \n",
       "1             0             30     NaN           15.0  \n",
       "2             0             30     NaN           15.0  \n",
       "3             0             30     NaN           15.0  \n",
       "4             0             30     NaN           15.0  "
      ]
     },
     "execution_count": 5,
     "metadata": {},
     "output_type": "execute_result"
    }
   ],
   "source": [
    "#Get General Info On Data\n",
    "print(\"Un-Cleaned Dataset General Info:\")\n",
    "print(\"~~~~~~~~~~~~~~~~~~~~~~\")\n",
    "print(\"Unique Listings:\\t\",len(df))\n",
    "print(\"Unique Job Categories:\\t\",len(df[\"Classification\"].unique()))\n",
    "print(\"Unique Job Titles:\\t\",len(df[\"Title\"].unique()))\n",
    "print(\"Unique Job Fields:\\t\",len(df[\"SubClassification\"].unique()))\n",
    "print(\"Unique Companies:\\t\",len(df[\"Company\"].unique()))\n",
    "print(\"Unique Cities:\\t\\t\",len(df[\"Location\"].unique()))\n",
    "print(\"Unique Suburbs:\\t\\t\",len(df[\"Area\"].unique()))\n",
    "print(\"Unique Contract Types:\\t\",len(df[\"JobType\"].unique()))\n",
    "df.head()"
   ]
  },
  {
   "cell_type": "code",
   "execution_count": 6,
   "metadata": {},
   "outputs": [
    {
     "data": {
      "text/plain": [
       "Id                        0\n",
       "Title                     0\n",
       "Company               12004\n",
       "Date                      0\n",
       "Location             121248\n",
       "Area                 195819\n",
       "Classification       121248\n",
       "SubClassification    121248\n",
       "Requirement               7\n",
       "FullDescription       16175\n",
       "LowestSalary              0\n",
       "HighestSalary             0\n",
       "JobType               16098\n",
       "AverageSalary             0\n",
       "dtype: int64"
      ]
     },
     "execution_count": 6,
     "metadata": {},
     "output_type": "execute_result"
    }
   ],
   "source": [
    "df.isnull().sum()"
   ]
  },
  {
   "cell_type": "code",
   "execution_count": 7,
   "metadata": {},
   "outputs": [],
   "source": [
    "#Remove Duplicate and NaN values\n",
    "df.drop(['FullDescription', 'Area', 'HighestSalary','LowestSalary', 'Requirement' ], axis=1, inplace=True)\n",
    "df.drop_duplicates(subset=['Title', 'Date', 'Location', 'Company'], keep='first', inplace=True)\n",
    "df.dropna(subset=['Location', 'Title', 'Company', 'Date', 'Classification', 'JobType', 'AverageSalary'],inplace=True)"
   ]
  },
  {
   "cell_type": "code",
   "execution_count": 8,
   "metadata": {},
   "outputs": [
    {
     "name": "stdout",
     "output_type": "stream",
     "text": [
      "Cleaned Dataset General Info:\n",
      "~~~~~~~~~~~~~~~~~~~~~~\n",
      "Unique Listings:\t 156183\n",
      "Unique Job Titles:\t 100635\n",
      "Unique Job Sectors:\t 30\n",
      "Unique Sub Sectors\t 338\n",
      "Unique Companies:\t 28782\n",
      "Unique Cities:\t\t 65\n",
      "Unique Contract Types:\t 4\n"
     ]
    },
    {
     "data": {
      "text/html": [
       "<div>\n",
       "<style scoped>\n",
       "    .dataframe tbody tr th:only-of-type {\n",
       "        vertical-align: middle;\n",
       "    }\n",
       "\n",
       "    .dataframe tbody tr th {\n",
       "        vertical-align: top;\n",
       "    }\n",
       "\n",
       "    .dataframe thead th {\n",
       "        text-align: right;\n",
       "    }\n",
       "</style>\n",
       "<table border=\"1\" class=\"dataframe\">\n",
       "  <thead>\n",
       "    <tr style=\"text-align: right;\">\n",
       "      <th></th>\n",
       "      <th>Id</th>\n",
       "      <th>Title</th>\n",
       "      <th>Company</th>\n",
       "      <th>Date</th>\n",
       "      <th>Location</th>\n",
       "      <th>Classification</th>\n",
       "      <th>SubClassification</th>\n",
       "      <th>JobType</th>\n",
       "      <th>AverageSalary</th>\n",
       "    </tr>\n",
       "  </thead>\n",
       "  <tbody>\n",
       "    <tr>\n",
       "      <td>121</td>\n",
       "      <td>37404238</td>\n",
       "      <td>Fabricator/Installer</td>\n",
       "      <td>WORKPLACE ACCESS &amp; SAFETY</td>\n",
       "      <td>2018-10-07</td>\n",
       "      <td>Melbourne</td>\n",
       "      <td>Trades &amp; Services</td>\n",
       "      <td>Welders &amp; Boilermakers</td>\n",
       "      <td>Full Time</td>\n",
       "      <td>15.0</td>\n",
       "    </tr>\n",
       "    <tr>\n",
       "      <td>122</td>\n",
       "      <td>37404195</td>\n",
       "      <td>Boilermaker</td>\n",
       "      <td>RPM Contracting QLD P/l</td>\n",
       "      <td>2018-10-07</td>\n",
       "      <td>Brisbane</td>\n",
       "      <td>Trades &amp; Services</td>\n",
       "      <td>Welders &amp; Boilermakers</td>\n",
       "      <td>Full Time</td>\n",
       "      <td>15.0</td>\n",
       "    </tr>\n",
       "    <tr>\n",
       "      <td>123</td>\n",
       "      <td>37404364</td>\n",
       "      <td>Relationship Manager - Industry Banking</td>\n",
       "      <td>BankSA</td>\n",
       "      <td>2018-10-07</td>\n",
       "      <td>Adelaide</td>\n",
       "      <td>Banking &amp; Financial Services</td>\n",
       "      <td>Banking - Business</td>\n",
       "      <td>Full Time</td>\n",
       "      <td>15.0</td>\n",
       "    </tr>\n",
       "    <tr>\n",
       "      <td>124</td>\n",
       "      <td>37404363</td>\n",
       "      <td>Relationship Manager - Industry Banking</td>\n",
       "      <td>BankSA</td>\n",
       "      <td>2018-10-07</td>\n",
       "      <td>Darwin</td>\n",
       "      <td>Banking &amp; Financial Services</td>\n",
       "      <td>Banking - Business</td>\n",
       "      <td>Full Time</td>\n",
       "      <td>15.0</td>\n",
       "    </tr>\n",
       "    <tr>\n",
       "      <td>125</td>\n",
       "      <td>37404288</td>\n",
       "      <td>Casual Childcare Positions  | Bondi Junction</td>\n",
       "      <td>anzuk Education</td>\n",
       "      <td>2018-10-07</td>\n",
       "      <td>Sydney</td>\n",
       "      <td>Education &amp; Training</td>\n",
       "      <td>Teaching - Early Childhood</td>\n",
       "      <td>Contract/Temp</td>\n",
       "      <td>15.0</td>\n",
       "    </tr>\n",
       "  </tbody>\n",
       "</table>\n",
       "</div>"
      ],
      "text/plain": [
       "           Id                                         Title  \\\n",
       "121  37404238                          Fabricator/Installer   \n",
       "122  37404195                                   Boilermaker   \n",
       "123  37404364       Relationship Manager - Industry Banking   \n",
       "124  37404363       Relationship Manager - Industry Banking   \n",
       "125  37404288  Casual Childcare Positions  | Bondi Junction   \n",
       "\n",
       "                       Company       Date   Location  \\\n",
       "121  WORKPLACE ACCESS & SAFETY 2018-10-07  Melbourne   \n",
       "122    RPM Contracting QLD P/l 2018-10-07   Brisbane   \n",
       "123                     BankSA 2018-10-07   Adelaide   \n",
       "124                     BankSA 2018-10-07     Darwin   \n",
       "125            anzuk Education 2018-10-07     Sydney   \n",
       "\n",
       "                   Classification           SubClassification        JobType  \\\n",
       "121             Trades & Services      Welders & Boilermakers      Full Time   \n",
       "122             Trades & Services      Welders & Boilermakers      Full Time   \n",
       "123  Banking & Financial Services          Banking - Business      Full Time   \n",
       "124  Banking & Financial Services          Banking - Business      Full Time   \n",
       "125          Education & Training  Teaching - Early Childhood  Contract/Temp   \n",
       "\n",
       "     AverageSalary  \n",
       "121           15.0  \n",
       "122           15.0  \n",
       "123           15.0  \n",
       "124           15.0  \n",
       "125           15.0  "
      ]
     },
     "execution_count": 8,
     "metadata": {},
     "output_type": "execute_result"
    }
   ],
   "source": [
    "#Get General Info On Data\n",
    "print(\"Cleaned Dataset General Info:\")\n",
    "print(\"~~~~~~~~~~~~~~~~~~~~~~\")\n",
    "print(\"Unique Listings:\\t\",len(df))\n",
    "print(\"Unique Job Titles:\\t\",len(df[\"Title\"].unique()))\n",
    "print(\"Unique Job Sectors:\\t\",len(df[\"Classification\"].unique()))\n",
    "print(\"Unique Sub Sectors\\t\",len(df[\"SubClassification\"].unique()))\n",
    "print(\"Unique Companies:\\t\",len(df[\"Company\"].unique()))\n",
    "print(\"Unique Cities:\\t\\t\",len(df[\"Location\"].unique()))\n",
    "print(\"Unique Contract Types:\\t\",len(df[\"JobType\"].unique()))\n",
    "df.head()\n"
   ]
  },
  {
   "cell_type": "code",
   "execution_count": 9,
   "metadata": {},
   "outputs": [
    {
     "name": "stdout",
     "output_type": "stream",
     "text": [
      "Cleaned Dataset Column Info:\n",
      "~~~~~~~~~~~~~~~~~~~~~~\n",
      "Unique Job Categories:\n",
      " ['Trades & Services' 'Banking & Financial Services' 'Education & Training'\n",
      " 'Engineering' 'Information & Communication Technology'\n",
      " 'Marketing & Communications' 'CEO & General Management'\n",
      " 'Human Resources & Recruitment' 'Accounting' 'Design & Architecture'\n",
      " 'Manufacturing, Transport & Logistics' 'Legal' 'Real Estate & Property'\n",
      " 'Healthcare & Medical' 'Construction' 'Government & Defence'\n",
      " 'Sport & Recreation' 'Hospitality & Tourism' 'Sales'\n",
      " 'Retail & Consumer Products' 'Call Centre & Customer Service'\n",
      " 'Mining, Resources & Energy' 'Administration & Office Support'\n",
      " 'Science & Technology' 'Advertising, Arts & Media'\n",
      " 'Insurance & Superannuation' 'Community Services & Development'\n",
      " 'Farming, Animals & Conservation' 'Self Employment'\n",
      " 'Consulting & Strategy'] \n",
      "\n",
      "Unique Job Titles:\n",
      " ['Fabricator/Installer' 'Boilermaker'\n",
      " 'Relationship Manager - Industry Banking' ...\n",
      " 'IT Test Analyst OR Senior IT Test Analyst'\n",
      " 'Design Manager | Mid Tier Construction | Newcastle Location'\n",
      " 'Environmental Officer- Contaminated Land'] \n",
      "\n",
      "Unique Job Fields:\n",
      " ['Welders & Boilermakers' 'Banking - Business'\n",
      " 'Teaching - Early Childhood' 'Mechanical Engineering'\n",
      " 'Networks & Systems Administration' 'Product Management & Development'\n",
      " 'Programme & Project Management' 'General/Business Unit Manager'\n",
      " 'Help Desk & IT Support' 'Remuneration & Benefits'\n",
      " 'Business Services & Corporate Advisory' 'Illustration & Animation'\n",
      " 'Sales - Pre & Post' 'Other' 'Maintenance & Handyperson Services'\n",
      " 'Environment & Planning Law' 'Security'\n",
      " 'Financial Accounting & Reporting' 'Management' 'Pharmacy' 'Consultants'\n",
      " 'Electricians' 'Psychology, Counselling & Social Work' 'Architects'\n",
      " 'Foreperson/Supervisors' 'Compliance & Risk' 'Technicians'\n",
      " 'Audit - External' 'Analysts' 'Teaching - Tertiary' 'Audit - Internal'\n",
      " 'Physiotherapy, OT & Rehabilitation' 'Emergency Services'\n",
      " 'Stockbroking & Trading' 'Corporate Finance & Investment Banking'\n",
      " 'Digital & Search Marketing' 'Sales' 'Project Management'\n",
      " 'Contracts Management' 'Financial Managers & Controllers'\n",
      " 'Clinical/Medical Research' 'Business/Systems Analysts'\n",
      " 'Government - State' 'Residential Leasing & Property Management'\n",
      " 'Medical Administration' 'Bar & Beverage Staff'\n",
      " 'Kitchen & Sandwich Hands' 'Waiting Staff'\n",
      " 'Sales Representatives/Consultants' 'Fitness & Personal Training'\n",
      " 'Systems Accounting & IT Audit' 'Gardening & Landscaping'\n",
      " 'Management - Store' 'Assembly & Process Work'\n",
      " 'Fitters, Turners & Machinists' 'Customer Service - Customer Facing'\n",
      " 'General Practitioners' 'Mining - Operations' 'Hair & Beauty Services'\n",
      " 'Nursing - Aged Care' 'Administrative Assistants' 'Labourers'\n",
      " 'Production, Planning & Scheduling' 'PA, EA & Secretarial' 'Chefs/Cooks'\n",
      " 'Warehousing, Storage & Distribution' 'Architecture'\n",
      " 'Front Office & Guest Services' 'Developers/Programmers'\n",
      " 'Retail Assistants' 'Surveying' 'Teaching - Vocational'\n",
      " 'Government - Federal' 'Mining - Drill & Blast' 'Teaching - Primary'\n",
      " 'Administration' 'Chemistry & Physics'\n",
      " 'Media Strategy, Planning & Buying' 'Direct Marketing & CRM'\n",
      " 'Childcare & Outside School Hours Care' 'Financial Planning'\n",
      " 'Marketing Communications' 'Management - Agency' 'Speech Therapy'\n",
      " 'Graphic Design' 'Mining - Engineering & Maintenance' 'Medical Imaging'\n",
      " 'Body Corporate & Facilities Management' 'Office Management'\n",
      " 'Purchasing, Procurement & Inventory' 'Housekeeping'\n",
      " 'Web Development & Production' 'Taxation' 'Occupational Health & Safety'\n",
      " 'Client & Sales Administration' 'Receptionists' 'Engineering - Software'\n",
      " 'Mining - Exploration & Geoscience' 'Payroll' 'Legal Secretaries'\n",
      " 'Customer Service - Call Centre' 'Architectural Drafting'\n",
      " 'Coaching & Instruction' 'Plumbers'\n",
      " 'Nursing - General Medical & Surgical'\n",
      " 'Natural Therapies & Alternative Medicine' 'Residential Sales'\n",
      " 'Pickers & Packers' 'Account & Relationship Management'\n",
      " 'New Business Development' 'Credit' 'Civil/Structural Engineering'\n",
      " 'Road Transport' 'Dental' 'Claims' 'Plant & Machinery Operators'\n",
      " 'Employment Services' 'Building Trades' 'Automotive Trades'\n",
      " 'Accounts Receivable/Credit Control' 'Property Law'\n",
      " 'Marketing Assistants/Coordinators' 'Horticulture' 'Government - Local'\n",
      " 'Nursing - Theatre & Recovery' 'Community Development' 'Optical'\n",
      " 'Bookkeeping & Small Practice Accounting' 'Machine Operators'\n",
      " 'Aged & Disability Support' 'Carpentry & Cabinet Making'\n",
      " 'Sales - Outbound' 'Client Services' 'Recruitment - Agency'\n",
      " 'Accounts Officers/Clerks' 'Couriers, Drivers & Postal Services'\n",
      " 'Locksmiths' 'Market Research & Analysis' 'Security Services'\n",
      " 'Workplace Training & Assessment' 'Air Conditioning & Refrigeration'\n",
      " 'Pharmaceuticals & Medical Devices' 'Maintenance'\n",
      " 'Contracts Administration' 'Nursing - Management' 'Assistant Accountants'\n",
      " 'Rail & Maritime Transport' 'Management - Department/Assistant'\n",
      " 'Self Employment' 'Field Engineering' 'Estimating'\n",
      " 'Management Accounting & Budgeting' 'Consulting & Generalist HR'\n",
      " 'Engineering - Network' 'Analysis & Reporting'\n",
      " 'Building Services Engineering' 'Project Engineering'\n",
      " 'Engineering Drafting' 'Industrial Design' 'Planning' 'Tour Guides'\n",
      " 'Accounts Payable' 'Mortgages' 'Environmental Engineering'\n",
      " 'Sales - Inbound' 'Travel Agents/Consultants' 'Water & Waste Engineering'\n",
      " 'Interior Design' 'Commercial Sales, Leasing & Property Mgmt'\n",
      " 'Health, Safety & Environment' 'Corporate & Commercial Law'\n",
      " 'Teaching - Secondary' 'Biological & Biomedical Sciences'\n",
      " 'Chemical Engineering' 'Electrical/Electronic Engineering' 'Team Leaders'\n",
      " 'Testing & Quality Assurance' 'Child Welfare, Youth & Family Services'\n",
      " 'Cleaning Services' 'Tailors & Dressmakers' 'Programming & Production'\n",
      " \"Workers' Compensation\" 'Journalism & Writing' 'Fashion & Textile Design'\n",
      " 'Editing & Publishing' 'Reservations' 'Generalists - In-house'\n",
      " 'Power Generation & Distribution'\n",
      " 'Nursing - Psych, Forensic & Correctional Health'\n",
      " 'Web & Interaction Design' 'Database Development & Administration'\n",
      " 'Tax Law' 'Aviation Services' 'Litigation & Dispute Resolution'\n",
      " 'Brand Management' 'Medical Specialists'\n",
      " 'Nursing - Midwifery, Neo-Natal, SCN & NICU' 'Planning & Scheduling'\n",
      " 'Nursing - Community, Maternal & Child Health' 'Telecommunications'\n",
      " 'Company Secretaries' 'Nursing - A&E, Critical Care & ICU'\n",
      " 'Generalists - Law Firm' 'Farm Labour' 'Recruitment - Internal'\n",
      " 'Promotions' 'Quality Assurance & Control' 'Farm Management'\n",
      " 'Printing & Publishing Services' 'Funds Management' 'Sales Coordinators'\n",
      " 'Management - Universities' 'Urban Design & Planning'\n",
      " 'Import/Export & Customs' 'Retail & Property Development' 'Buying'\n",
      " 'Painters & Sign Writers' 'Agency Account Management'\n",
      " 'Management - Area/Multi-site' 'Management & Support'\n",
      " 'Supervisors/Team Leaders' 'Nursing - Paediatric & PICU'\n",
      " 'Systems Engineering' 'Insurance & Superannuation Law'\n",
      " 'Bakers & Pastry Chefs' 'Law Clerks & Paralegals' 'Butchers'\n",
      " 'Collections' 'Management - Internal' 'Strategy & Planning' 'Pathology'\n",
      " 'Housing & Homelessness Services' 'Nursing - High Acuity'\n",
      " 'Library Services & Information Management' 'Student Services'\n",
      " 'Construction Law' 'Oil & Gas - Engineering & Maintenance'\n",
      " 'Industrial Engineering' 'Ambulance/Paramedics' 'Mining - Processing'\n",
      " 'Technical Writing' 'Nursing - Educators & Facilitators'\n",
      " 'Industrial Relations & Employment Law' 'Process Engineering'\n",
      " 'Fishing & Aquaculture' 'Laboratory & Technical Services'\n",
      " 'Team Leaders/Supervisors' 'Natural Resources & Water' 'Policy'\n",
      " 'Environmental, Earth & Geosciences'\n",
      " 'Records Management & Document Control' 'Training & Development'\n",
      " 'Management & Change Consulting' 'Legal Practice Management'\n",
      " 'Banking & Finance Law' 'Banking - Retail/Branch' 'Police & Corrections'\n",
      " 'Indigenous & Multicultural Services' 'Management - Schools'\n",
      " 'Merchandisers' 'Data Entry & Word Processing' 'Oil & Gas - Operations'\n",
      " 'Gaming' 'Fundraising' 'Event Management'\n",
      " 'Environment & Sustainability Consulting' 'Personal Injury Law'\n",
      " 'Industrial & Employee Relations' 'Residents & Registrars'\n",
      " 'Cost Accounting' 'Management - Vocational'\n",
      " 'Veterinary Services & Animal Welfare' 'Policy, Planning & Regulation'\n",
      " 'Brokerage' 'Freight/Cargo Forwarding' 'Automotive Engineering'\n",
      " 'Landscape Architecture' 'Volunteer Coordination & Support'\n",
      " 'Oil & Gas - Production & Refinement'\n",
      " 'Banking - Corporate & Institutional' 'Performing Arts' 'Family Law'\n",
      " 'Teaching Aides & Special Needs' 'Conservation, Parks & Wildlife'\n",
      " 'Research & Fellowships' 'CEO' 'Oil & Gas - Drilling' 'Tutoring'\n",
      " 'Settlements' 'Risk Consulting' 'Environmental Services'\n",
      " 'Mathematics, Statistics & Information Sciences' 'Underwriting'\n",
      " 'Airlines' 'Insolvency & Corporate Recovery' 'Agronomy & Farm Services'\n",
      " 'Engineering - Hardware' 'Winery & Viticulture' 'Nannies & Babysitters'\n",
      " 'Public Relations & Corporate Affairs' 'Fleet Management' 'Dieticians'\n",
      " 'Superannuation' 'Photography' 'Computer Operators'\n",
      " 'Public Transport & Taxi Services' 'Internal Communications'\n",
      " 'Trade Marketing' 'Organisational Development' 'Aerospace Engineering'\n",
      " 'Food Technology & Safety' 'Criminal & Civil Law'\n",
      " 'Intellectual Property Law' 'Biotechnology & Genetics'\n",
      " 'Chiropractic & Osteopathic' 'Pattern Makers & Garment Technicians'\n",
      " 'Materials Handling Engineering' 'Oil & Gas - Exploration & Geoscience'\n",
      " 'Assessment' 'Local Government' 'Air Force' 'Inventory & Fixed Assets'\n",
      " 'Treasury' 'Government' 'Art Direction' 'Valuation' 'Supervisors'\n",
      " 'Materials Sciences' 'Navy' 'Corporate Development'\n",
      " 'Forensic Accounting & Investigation' 'Actuarial' 'COO & MD'\n",
      " 'Modelling & Simulation' 'Floristry' 'Board Appointments'\n",
      " 'Fund Administration' 'Army'] \n",
      "\n",
      "Unique Companies:\n",
      " ['WORKPLACE ACCESS & SAFETY' 'RPM Contracting QLD P/l' 'BankSA' ...\n",
      " 'Lindfield Public School P and C Association' 'Access Your Supports'\n",
      " 'Sigma Executive'] \n",
      "\n",
      "Unique Cities:\n",
      " ['Melbourne' 'Brisbane' 'Adelaide' 'Darwin' 'Sydney'\n",
      " 'Toowoomba & Darling Downs' 'Perth' 'Port Hedland, Karratha & Pilbara'\n",
      " 'ACT' 'Yarra Valley & High Country' 'Wollongong, Illawarra & South Coast'\n",
      " 'Port Macquarie & Mid North Coast' 'Gold Coast'\n",
      " 'Southern Highlands & Tablelands' 'Albury Area'\n",
      " 'Yorke Peninsula & Clare Valley' 'Kalgoorlie, Goldfields & Esperance'\n",
      " 'Newcastle, Maitland & Hunter' 'Bendigo, Goldfields & Macedon Ranges'\n",
      " 'Wagga Wagga & Riverina' 'Mornington Peninsula & Bass Coast'\n",
      " 'South West Coast VIC' 'Lismore & Far North Coast' 'Sunshine Coast'\n",
      " 'Alice Springs & Central Australia' 'Dubbo & Central NSW'\n",
      " 'Devonport & North West' 'Launceston & North East'\n",
      " 'Ballarat & Central Highlands' 'Whyalla & Eyre Peninsula' 'Northern QLD'\n",
      " 'Richmond & Hawkesbury' 'Bunbury & South West' 'Gosford & Central Coast'\n",
      " 'Cairns & Far North' 'Mackay & Coalfields' 'Hobart'\n",
      " 'Geraldton, Gascoyne & Midwest' 'Rockhampton & Capricorn Coast'\n",
      " 'Adelaide Hills & Barossa' 'Shepparton & Goulburn Valley'\n",
      " 'Bairnsdale & Gippsland' 'Coffs Harbour & North Coast'\n",
      " 'Mt Gambier & Limestone Coast' 'Riverland & Murray Mallee'\n",
      " 'Hervey Bay & Fraser Coast' 'Blue Mountains & Central West'\n",
      " 'Mildura & Murray' 'Far West & North Central NSW'\n",
      " 'Gladstone & Central QLD' 'Somerset & Lockyer' 'Western QLD'\n",
      " 'Albany & Great Southern' 'Broome & Kimberley'\n",
      " 'Bundaberg & Wide Bay Burnett' 'Mandurah & Peel'\n",
      " 'Fleurieu Peninsula & Kangaroo Island' 'Katherine & Northern Australia'\n",
      " 'Northam & Wheatbelt' 'Tamworth & North West NSW'\n",
      " 'West Gippsland & Latrobe Valley' 'Tumut, Snowy & Monaro'\n",
      " 'Horsham & Grampians' 'Central & South East TAS'\n",
      " 'Coober Pedy & Outback SA'] \n",
      "\n",
      "Unique Contract Types:\n",
      " ['Full Time' 'Contract/Temp' 'Part Time' 'Casual/Vacation'] \n",
      "\n"
     ]
    }
   ],
   "source": [
    "#Get General Info On Data\n",
    "print(\"Cleaned Dataset Column Info:\")\n",
    "print(\"~~~~~~~~~~~~~~~~~~~~~~\")\n",
    "print(\"Unique Job Categories:\\n\", df[\"Classification\"].unique(),\"\\n\")\n",
    "print(\"Unique Job Titles:\\n\", df[\"Title\"].unique(), \"\\n\")\n",
    "print(\"Unique Job Fields:\\n\", df[\"SubClassification\"].unique(), \"\\n\")\n",
    "print(\"Unique Companies:\\n\", df[\"Company\"].unique(), \"\\n\")\n",
    "print(\"Unique Cities:\\n\", df[\"Location\"].unique(), \"\\n\")\n",
    "print(\"Unique Contract Types:\\n\", df[\"JobType\"].unique(), \"\\n\")"
   ]
  },
  {
   "cell_type": "code",
   "execution_count": 10,
   "metadata": {
    "scrolled": true
   },
   "outputs": [
    {
     "name": "stdout",
     "output_type": "stream",
     "text": [
      "Number of Listings Per City:\n",
      "~~~~~~~~~~~~~~~~~~~~~~\n",
      "Sydney                                  48846\n",
      "Melbourne                               36756\n",
      "Brisbane                                16795\n",
      "Perth                                   10519\n",
      "Adelaide                                 5233\n",
      "                                        ...  \n",
      "Yorke Peninsula & Clare Valley             79\n",
      "Tumut, Snowy & Monaro                      75\n",
      "Fleurieu Peninsula & Kangaroo Island       56\n",
      "Somerset & Lockyer                         54\n",
      "Central & South East TAS                   40\n",
      "Name: Location, Length: 65, dtype: int64\n"
     ]
    }
   ],
   "source": [
    "print(\"Number of Listings Per City:\")\n",
    "print(\"~~~~~~~~~~~~~~~~~~~~~~\")\n",
    "city_counts = df['Location'].value_counts()\n",
    "print(city_counts)\n",
    "\n"
   ]
  },
  {
   "cell_type": "code",
   "execution_count": 11,
   "metadata": {},
   "outputs": [
    {
     "data": {
      "text/plain": [
       "<matplotlib.axes._subplots.AxesSubplot at 0x27f71ce4ec8>"
      ]
     },
     "execution_count": 11,
     "metadata": {},
     "output_type": "execute_result"
    }
   ],
   "source": [
    "city_counts[0:5].plot(kind='pie', title=\"Top Cities for Job Listings\")"
   ]
  },
  {
   "cell_type": "code",
   "execution_count": 12,
   "metadata": {},
   "outputs": [
    {
     "name": "stdout",
     "output_type": "stream",
     "text": [
      "Number of Listings Per Sector:\n",
      "~~~~~~~~~~~~~~~~~~~~~~\n"
     ]
    },
    {
     "data": {
      "text/plain": [
       "Information & Communication Technology    18640\n",
       "Trades & Services                         14311\n",
       "Healthcare & Medical                      13444\n",
       "Hospitality & Tourism                     12436\n",
       "Manufacturing, Transport & Logistics       9800\n",
       "Administration & Office Support            7864\n",
       "Accounting                                 7543\n",
       "Construction                               6839\n",
       "Education & Training                       6805\n",
       "Retail & Consumer Products                 6668\n",
       "Sales                                      6570\n",
       "Engineering                                5171\n",
       "Mining, Resources & Energy                 5036\n",
       "Government & Defence                       5027\n",
       "Banking & Financial Services               3666\n",
       "Community Services & Development           3533\n",
       "Legal                                      3388\n",
       "Human Resources & Recruitment              3332\n",
       "Marketing & Communications                 3171\n",
       "Call Centre & Customer Service             3010\n",
       "Real Estate & Property                     2917\n",
       "Design & Architecture                      1474\n",
       "Insurance & Superannuation                 1096\n",
       "Consulting & Strategy                       887\n",
       "Sport & Recreation                          785\n",
       "Advertising, Arts & Media                   697\n",
       "Farming, Animals & Conservation             687\n",
       "Science & Technology                        680\n",
       "CEO & General Management                    626\n",
       "Self Employment                              80\n",
       "Name: Classification, dtype: int64"
      ]
     },
     "execution_count": 12,
     "metadata": {},
     "output_type": "execute_result"
    }
   ],
   "source": [
    "print(\"Number of Listings Per Sector:\")\n",
    "print(\"~~~~~~~~~~~~~~~~~~~~~~\")\n",
    "sector_counts = df['Classification'].value_counts()\n",
    "sector_counts"
   ]
  },
  {
   "cell_type": "code",
   "execution_count": 13,
   "metadata": {},
   "outputs": [
    {
     "data": {
      "text/plain": [
       "<matplotlib.axes._subplots.AxesSubplot at 0x27f0281cec8>"
      ]
     },
     "execution_count": 13,
     "metadata": {},
     "output_type": "execute_result"
    },
    {
     "data": {
      "image/png": "[encoded data removed]",
      "text/plain": [
       "<Figure size 432x288 with 1 Axes>"
      ]
     },
     "metadata": {},
     "output_type": "display_data"
    }
   ],
   "source": [
    "sector_counts[0:5].plot(kind='pie', title=\"Top Sectors for Job Listings\")"
   ]
  },
  {
   "cell_type": "code",
   "execution_count": 14,
   "metadata": {},
   "outputs": [
    {
     "name": "stdout",
     "output_type": "stream",
     "text": [
      "Unique Average Salaries:\n",
      " [ 15.   35.   45.   55.   65.   75.   90.  110.  135.  175.  599.5]\n"
     ]
    }
   ],
   "source": [
    "print(\"Unique Average Salaries:\\n\", df['AverageSalary'].unique())"
   ]
  },
  {
   "cell_type": "code",
   "execution_count": 30,
   "metadata": {},
   "outputs": [
    {
     "data": {
      "text/plain": [
       "Classification\n",
       "Hospitality & Tourism                      39.959151\n",
       "Retail & Consumer Products                 44.455234\n",
       "Administration & Office Support            48.313009\n",
       "Call Centre & Customer Service             48.451661\n",
       "Trades & Services                          53.471106\n",
       "Community Services & Development           56.348005\n",
       "Sport & Recreation                         57.222293\n",
       "Farming, Animals & Conservation            57.944687\n",
       "Manufacturing, Transport & Logistics       58.172908\n",
       "Advertising, Arts & Media                  69.578192\n",
       "Education & Training                       71.037325\n",
       "Real Estate & Property                     80.769284\n",
       "Sales                                      81.469787\n",
       "Self Employment                            83.306250\n",
       "Marketing & Communications                 83.767424\n",
       "Design & Architecture                      86.943351\n",
       "Human Resources & Recruitment              87.271459\n",
       "Accounting                                 87.310288\n",
       "Insurance & Superannuation                 89.861770\n",
       "Science & Technology                       98.136765\n",
       "Government & Defence                      103.625423\n",
       "Banking & Financial Services              112.163393\n",
       "Legal                                     118.941116\n",
       "Engineering                               119.571940\n",
       "Healthcare & Medical                      121.100602\n",
       "Construction                              124.918921\n",
       "Mining, Resources & Energy                125.761021\n",
       "Consulting & Strategy                     156.982525\n",
       "Information & Communication Technology    176.919608\n",
       "CEO & General Management                  254.665335\n",
       "Name: AverageSalary, dtype: float64"
      ]
     },
     "execution_count": 30,
     "metadata": {},
     "output_type": "execute_result"
    }
   ],
   "source": [
    "SectorSalaries = df[['Classification', 'AverageSalary']].groupby('Classification')['AverageSalary'].mean().sort_values()\n",
    "SectorSalaries"
   ]
  },
  {
   "cell_type": "code",
   "execution_count": 42,
   "metadata": {},
   "outputs": [
    {
     "data": {
      "text/plain": [
       "<matplotlib.axes._subplots.AxesSubplot at 0x27f543da9c8>"
      ]
     },
     "execution_count": 42,
     "metadata": {},
     "output_type": "execute_result"
    },
    {
     "data": {
      "image/png": "[encoded data removed]",
      "text/plain": [
       "<Figure size 432x288 with 1 Axes>"
      ]
     },
     "metadata": {
      "needs_background": "light"
     },
     "output_type": "display_data"
    }
   ],
   "source": [
    "SectorSalaries[-1:-6:-1].plot(kind='bar', title=\"Top Sectors for Salary\")"
   ]
  },
  {
   "cell_type": "code",
   "execution_count": null,
   "metadata": {},
   "outputs": [],
   "source": []
  }
 ],
 "metadata": {
  "kernelspec": {
   "display_name": "Python 3",
   "language": "python",
   "name": "python3"
  },
  "language_info": {
   "codemirror_mode": {
    "name": "ipython",
    "version": 3
   },
   "file_extension": ".py",
   "mimetype": "text/x-python",
   "name": "python",
   "nbconvert_exporter": "python",
   "pygments_lexer": "ipython3",
   "version": "3.7.4"
  }
 },
 "nbformat": 4,
 "nbformat_minor": 2
}
