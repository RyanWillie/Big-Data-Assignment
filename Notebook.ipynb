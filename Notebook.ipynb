{
 "cells": [
  {
   "cell_type": "code",
   "execution_count": 1,
   "metadata": {},
   "outputs": [],
   "source": [
    "import pandas as pd\n",
    "import matplotlib.pyplot as plt\n",
    "import seaborn as sn\n",
    "import numpy as np\n",
    "from math import sqrt\n",
    "import sys, os\n",
    "import sklearn"
   ]
  },
  {
   "cell_type": "code",
   "execution_count": 2,
   "metadata": {
    "scrolled": true
   },
   "outputs": [
    {
     "data": {
      "text/html": [
       "<div>\n",
       "<style scoped>\n",
       "    .dataframe tbody tr th:only-of-type {\n",
       "        vertical-align: middle;\n",
       "    }\n",
       "\n",
       "    .dataframe tbody tr th {\n",
       "        vertical-align: top;\n",
       "    }\n",
       "\n",
       "    .dataframe thead th {\n",
       "        text-align: right;\n",
       "    }\n",
       "</style>\n",
       "<table border=\"1\" class=\"dataframe\">\n",
       "  <thead>\n",
       "    <tr style=\"text-align: right;\">\n",
       "      <th></th>\n",
       "      <th>Id</th>\n",
       "      <th>Title</th>\n",
       "      <th>Company</th>\n",
       "      <th>Date</th>\n",
       "      <th>Location</th>\n",
       "      <th>Area</th>\n",
       "      <th>Classification</th>\n",
       "      <th>SubClassification</th>\n",
       "      <th>Requirement</th>\n",
       "      <th>FullDescription</th>\n",
       "      <th>LowestSalary</th>\n",
       "      <th>HighestSalary</th>\n",
       "      <th>JobType</th>\n",
       "    </tr>\n",
       "  </thead>\n",
       "  <tbody>\n",
       "    <tr>\n",
       "      <td>0</td>\n",
       "      <td>37404348</td>\n",
       "      <td>Casual Stock Replenisher</td>\n",
       "      <td>Aldi Stores</td>\n",
       "      <td>2018-10-07T00:00:00.000Z</td>\n",
       "      <td>Sydney</td>\n",
       "      <td>North West &amp; Hills District</td>\n",
       "      <td>Retail &amp; Consumer Products</td>\n",
       "      <td>Retail Assistants</td>\n",
       "      <td>Our Casual Stock Replenishers pride themselves...</td>\n",
       "      <td>NaN</td>\n",
       "      <td>0</td>\n",
       "      <td>30</td>\n",
       "      <td>NaN</td>\n",
       "    </tr>\n",
       "    <tr>\n",
       "      <td>1</td>\n",
       "      <td>37404337</td>\n",
       "      <td>Casual Stock Replenisher</td>\n",
       "      <td>Aldi Stores</td>\n",
       "      <td>2018-10-07T00:00:00.000Z</td>\n",
       "      <td>Richmond &amp; Hawkesbury</td>\n",
       "      <td>NaN</td>\n",
       "      <td>Retail &amp; Consumer Products</td>\n",
       "      <td>Retail Assistants</td>\n",
       "      <td>Our Casual Stock Replenishers pride themselves...</td>\n",
       "      <td>NaN</td>\n",
       "      <td>0</td>\n",
       "      <td>30</td>\n",
       "      <td>NaN</td>\n",
       "    </tr>\n",
       "    <tr>\n",
       "      <td>2</td>\n",
       "      <td>37404356</td>\n",
       "      <td>RETAIL SALES SUPERSTARS and STYLISTS Wanted - ...</td>\n",
       "      <td>LB Creative Pty Ltd</td>\n",
       "      <td>2018-10-07T00:00:00.000Z</td>\n",
       "      <td>Brisbane</td>\n",
       "      <td>CBD &amp; Inner Suburbs</td>\n",
       "      <td>Retail &amp; Consumer Products</td>\n",
       "      <td>Retail Assistants</td>\n",
       "      <td>BRAND NEW FLAGSHIP STORE OPENING - SUNSHINE PLAZA</td>\n",
       "      <td>NaN</td>\n",
       "      <td>0</td>\n",
       "      <td>30</td>\n",
       "      <td>NaN</td>\n",
       "    </tr>\n",
       "    <tr>\n",
       "      <td>3</td>\n",
       "      <td>37404330</td>\n",
       "      <td>Team member - Belrose</td>\n",
       "      <td>Anaconda Group Pty Ltd</td>\n",
       "      <td>2018-10-07T00:00:00.000Z</td>\n",
       "      <td>Gosford &amp; Central Coast</td>\n",
       "      <td>NaN</td>\n",
       "      <td>Retail &amp; Consumer Products</td>\n",
       "      <td>Retail Assistants</td>\n",
       "      <td>Bring it on - do you love the great outdoors a...</td>\n",
       "      <td>NaN</td>\n",
       "      <td>0</td>\n",
       "      <td>30</td>\n",
       "      <td>NaN</td>\n",
       "    </tr>\n",
       "    <tr>\n",
       "      <td>4</td>\n",
       "      <td>37404308</td>\n",
       "      <td>Business Banking Contact Centre Specialist, Ni...</td>\n",
       "      <td>Commonwealth Bank - Business &amp; Private Banking</td>\n",
       "      <td>2018-10-07T00:00:00.000Z</td>\n",
       "      <td>Sydney</td>\n",
       "      <td>Ryde &amp; Macquarie Park</td>\n",
       "      <td>Call Centre &amp; Customer Service</td>\n",
       "      <td>Sales - Inbound</td>\n",
       "      <td>We are seeking highly articulate, enthusiastic...</td>\n",
       "      <td>NaN</td>\n",
       "      <td>0</td>\n",
       "      <td>30</td>\n",
       "      <td>NaN</td>\n",
       "    </tr>\n",
       "  </tbody>\n",
       "</table>\n",
       "</div>"
      ],
      "text/plain": [
       "         Id                                              Title  \\\n",
       "0  37404348                           Casual Stock Replenisher   \n",
       "1  37404337                           Casual Stock Replenisher   \n",
       "2  37404356  RETAIL SALES SUPERSTARS and STYLISTS Wanted - ...   \n",
       "3  37404330                              Team member - Belrose   \n",
       "4  37404308  Business Banking Contact Centre Specialist, Ni...   \n",
       "\n",
       "                                          Company                      Date  \\\n",
       "0                                     Aldi Stores  2018-10-07T00:00:00.000Z   \n",
       "1                                     Aldi Stores  2018-10-07T00:00:00.000Z   \n",
       "2                             LB Creative Pty Ltd  2018-10-07T00:00:00.000Z   \n",
       "3                          Anaconda Group Pty Ltd  2018-10-07T00:00:00.000Z   \n",
       "4  Commonwealth Bank - Business & Private Banking  2018-10-07T00:00:00.000Z   \n",
       "\n",
       "                  Location                         Area  \\\n",
       "0                   Sydney  North West & Hills District   \n",
       "1    Richmond & Hawkesbury                          NaN   \n",
       "2                 Brisbane          CBD & Inner Suburbs   \n",
       "3  Gosford & Central Coast                          NaN   \n",
       "4                   Sydney        Ryde & Macquarie Park   \n",
       "\n",
       "                   Classification  SubClassification  \\\n",
       "0      Retail & Consumer Products  Retail Assistants   \n",
       "1      Retail & Consumer Products  Retail Assistants   \n",
       "2      Retail & Consumer Products  Retail Assistants   \n",
       "3      Retail & Consumer Products  Retail Assistants   \n",
       "4  Call Centre & Customer Service    Sales - Inbound   \n",
       "\n",
       "                                         Requirement FullDescription  \\\n",
       "0  Our Casual Stock Replenishers pride themselves...             NaN   \n",
       "1  Our Casual Stock Replenishers pride themselves...             NaN   \n",
       "2  BRAND NEW FLAGSHIP STORE OPENING - SUNSHINE PLAZA             NaN   \n",
       "3  Bring it on - do you love the great outdoors a...             NaN   \n",
       "4  We are seeking highly articulate, enthusiastic...             NaN   \n",
       "\n",
       "   LowestSalary  HighestSalary JobType  \n",
       "0             0             30     NaN  \n",
       "1             0             30     NaN  \n",
       "2             0             30     NaN  \n",
       "3             0             30     NaN  \n",
       "4             0             30     NaN  "
      ]
     },
     "execution_count": 2,
     "metadata": {},
     "output_type": "execute_result"
    }
   ],
   "source": [
    "df = pd.read_csv(\"data.csv\", low_memory=False)\n",
    "df.head()"
   ]
  },
  {
   "cell_type": "markdown",
   "metadata": {},
   "source": [
    "# 1) Data Cleaning and Preprocessing"
   ]
  },
  {
   "cell_type": "markdown",
   "metadata": {},
   "source": [
    "## Get General Info On Data"
   ]
  },
  {
   "cell_type": "code",
   "execution_count": 3,
   "metadata": {},
   "outputs": [
    {
     "name": "stdout",
     "output_type": "stream",
     "text": [
      "Dataset has 318477 tuples, and 13 categories\n"
     ]
    }
   ],
   "source": [
    "print(\"Dataset has {0} tuples, and {1} categories\".format(df.shape[0],df.shape[1]))"
   ]
  },
  {
   "cell_type": "code",
   "execution_count": 4,
   "metadata": {},
   "outputs": [
    {
     "name": "stdout",
     "output_type": "stream",
     "text": [
      "Categories in Dataset:\n",
      "~~~~~~~~~~~~~~~~~~~~~~\n",
      "\t- Id\n",
      "\t- Title\n",
      "\t- Company\n",
      "\t- Date\n",
      "\t- Location\n",
      "\t- Area\n",
      "\t- Classification\n",
      "\t- SubClassification\n",
      "\t- Requirement\n",
      "\t- FullDescription\n",
      "\t- LowestSalary\n",
      "\t- HighestSalary\n",
      "\t- JobType\n"
     ]
    }
   ],
   "source": [
    "print(\"Categories in Dataset:\")\n",
    "print(\"~~~~~~~~~~~~~~~~~~~~~~\")\n",
    "for col in df.columns:\n",
    "    print(\"\\t-\", col)"
   ]
  },
  {
   "cell_type": "code",
   "execution_count": 5,
   "metadata": {},
   "outputs": [
    {
     "name": "stdout",
     "output_type": "stream",
     "text": [
      "Un-Cleaned Dataset General Info:\n",
      "~~~~~~~~~~~~~~~~~~~~~~\n",
      "Unique Listings:\t 318477\n",
      "Unique Job Categories:\t 31\n",
      "Unique Job Titles:\t 168065\n",
      "Unique Job Fields:\t 339\n",
      "Unique Companies:\t 40629\n",
      "Unique Cities:\t\t 66\n",
      "Unique Suburbs:\t\t 20\n",
      "Unique Contract Types:\t 5\n"
     ]
    }
   ],
   "source": [
    "#Get General Info On Data\n",
    "print(\"Un-Cleaned Dataset General Info:\")\n",
    "print(\"~~~~~~~~~~~~~~~~~~~~~~\")\n",
    "print(\"Unique Listings:\\t\",len(df))\n",
    "print(\"Unique Job Categories:\\t\",len(df[\"Classification\"].unique()))\n",
    "print(\"Unique Job Titles:\\t\",len(df[\"Title\"].unique()))\n",
    "print(\"Unique Job Fields:\\t\",len(df[\"SubClassification\"].unique()))\n",
    "print(\"Unique Companies:\\t\",len(df[\"Company\"].unique()))\n",
    "print(\"Unique Cities:\\t\\t\",len(df[\"Location\"].unique()))\n",
    "print(\"Unique Suburbs:\\t\\t\",len(df[\"Area\"].unique()))\n",
    "print(\"Unique Contract Types:\\t\",len(df[\"JobType\"].unique()))"
   ]
  },
  {
   "cell_type": "code",
   "execution_count": 6,
   "metadata": {},
   "outputs": [
    {
     "data": {
      "text/plain": [
       "Id                        0\n",
       "Title                     0\n",
       "Company               12004\n",
       "Date                      0\n",
       "Location             121248\n",
       "Area                 195819\n",
       "Classification       121248\n",
       "SubClassification    121248\n",
       "Requirement               7\n",
       "FullDescription       16175\n",
       "LowestSalary              0\n",
       "HighestSalary             0\n",
       "JobType               16098\n",
       "dtype: int64"
      ]
     },
     "execution_count": 6,
     "metadata": {},
     "output_type": "execute_result"
    }
   ],
   "source": [
    "df.isnull().sum()"
   ]
  },
  {
   "cell_type": "code",
   "execution_count": 7,
   "metadata": {},
   "outputs": [
    {
     "data": {
      "text/plain": [
       "Id                   object\n",
       "Title                object\n",
       "Company              object\n",
       "Date                 object\n",
       "Location             object\n",
       "Area                 object\n",
       "Classification       object\n",
       "SubClassification    object\n",
       "Requirement          object\n",
       "FullDescription      object\n",
       "LowestSalary          int64\n",
       "HighestSalary         int64\n",
       "JobType              object\n",
       "dtype: object"
      ]
     },
     "execution_count": 7,
     "metadata": {},
     "output_type": "execute_result"
    }
   ],
   "source": [
    "df.dtypes"
   ]
  },
  {
   "cell_type": "markdown",
   "metadata": {},
   "source": [
    "## Clean and Preprocess Data"
   ]
  },
  {
   "cell_type": "code",
   "execution_count": 8,
   "metadata": {},
   "outputs": [
    {
     "data": {
      "text/html": [
       "<div>\n",
       "<style scoped>\n",
       "    .dataframe tbody tr th:only-of-type {\n",
       "        vertical-align: middle;\n",
       "    }\n",
       "\n",
       "    .dataframe tbody tr th {\n",
       "        vertical-align: top;\n",
       "    }\n",
       "\n",
       "    .dataframe thead th {\n",
       "        text-align: right;\n",
       "    }\n",
       "</style>\n",
       "<table border=\"1\" class=\"dataframe\">\n",
       "  <thead>\n",
       "    <tr style=\"text-align: right;\">\n",
       "      <th></th>\n",
       "      <th>Id</th>\n",
       "      <th>Title</th>\n",
       "      <th>Company</th>\n",
       "      <th>Date</th>\n",
       "      <th>Location</th>\n",
       "      <th>Classification</th>\n",
       "      <th>SubClassification</th>\n",
       "      <th>Requirement</th>\n",
       "      <th>JobType</th>\n",
       "      <th>AverageSalary</th>\n",
       "    </tr>\n",
       "  </thead>\n",
       "  <tbody>\n",
       "    <tr>\n",
       "      <td>121</td>\n",
       "      <td>37404238</td>\n",
       "      <td>Fabricator/Installer</td>\n",
       "      <td>WORKPLACE ACCESS &amp; SAFETY</td>\n",
       "      <td>2018-10-07</td>\n",
       "      <td>Melbourne</td>\n",
       "      <td>Trades &amp; Services</td>\n",
       "      <td>Welders &amp; Boilermakers</td>\n",
       "      <td>Trade qualified person with skills in welding ...</td>\n",
       "      <td>Full Time</td>\n",
       "      <td>15.0</td>\n",
       "    </tr>\n",
       "    <tr>\n",
       "      <td>122</td>\n",
       "      <td>37404195</td>\n",
       "      <td>Boilermaker</td>\n",
       "      <td>RPM Contracting QLD P/l</td>\n",
       "      <td>2018-10-07</td>\n",
       "      <td>Brisbane</td>\n",
       "      <td>Trades &amp; Services</td>\n",
       "      <td>Welders &amp; Boilermakers</td>\n",
       "      <td>Perm rate $30. Structural steel fab &amp; weld out...</td>\n",
       "      <td>Full Time</td>\n",
       "      <td>15.0</td>\n",
       "    </tr>\n",
       "    <tr>\n",
       "      <td>123</td>\n",
       "      <td>37404364</td>\n",
       "      <td>Relationship Manager - Industry Banking</td>\n",
       "      <td>BankSA</td>\n",
       "      <td>2018-10-07</td>\n",
       "      <td>Adelaide</td>\n",
       "      <td>Banking &amp; Financial Services</td>\n",
       "      <td>Banking - Business</td>\n",
       "      <td>BankSA is an iconic banking brand, with more t...</td>\n",
       "      <td>Full Time</td>\n",
       "      <td>15.0</td>\n",
       "    </tr>\n",
       "    <tr>\n",
       "      <td>124</td>\n",
       "      <td>37404363</td>\n",
       "      <td>Relationship Manager - Industry Banking</td>\n",
       "      <td>BankSA</td>\n",
       "      <td>2018-10-07</td>\n",
       "      <td>Darwin</td>\n",
       "      <td>Banking &amp; Financial Services</td>\n",
       "      <td>Banking - Business</td>\n",
       "      <td>BankSA is an iconic banking brand, with more t...</td>\n",
       "      <td>Full Time</td>\n",
       "      <td>15.0</td>\n",
       "    </tr>\n",
       "    <tr>\n",
       "      <td>125</td>\n",
       "      <td>37404288</td>\n",
       "      <td>Casual Childcare Positions  | Bondi Junction</td>\n",
       "      <td>anzuk Education</td>\n",
       "      <td>2018-10-07</td>\n",
       "      <td>Sydney</td>\n",
       "      <td>Education &amp; Training</td>\n",
       "      <td>Teaching - Early Childhood</td>\n",
       "      <td>anzuk education are searching for reliable, en...</td>\n",
       "      <td>Contract/Temp</td>\n",
       "      <td>15.0</td>\n",
       "    </tr>\n",
       "  </tbody>\n",
       "</table>\n",
       "</div>"
      ],
      "text/plain": [
       "           Id                                         Title  \\\n",
       "121  37404238                          Fabricator/Installer   \n",
       "122  37404195                                   Boilermaker   \n",
       "123  37404364       Relationship Manager - Industry Banking   \n",
       "124  37404363       Relationship Manager - Industry Banking   \n",
       "125  37404288  Casual Childcare Positions  | Bondi Junction   \n",
       "\n",
       "                       Company       Date   Location  \\\n",
       "121  WORKPLACE ACCESS & SAFETY 2018-10-07  Melbourne   \n",
       "122    RPM Contracting QLD P/l 2018-10-07   Brisbane   \n",
       "123                     BankSA 2018-10-07   Adelaide   \n",
       "124                     BankSA 2018-10-07     Darwin   \n",
       "125            anzuk Education 2018-10-07     Sydney   \n",
       "\n",
       "                   Classification           SubClassification  \\\n",
       "121             Trades & Services      Welders & Boilermakers   \n",
       "122             Trades & Services      Welders & Boilermakers   \n",
       "123  Banking & Financial Services          Banking - Business   \n",
       "124  Banking & Financial Services          Banking - Business   \n",
       "125          Education & Training  Teaching - Early Childhood   \n",
       "\n",
       "                                           Requirement        JobType  \\\n",
       "121  Trade qualified person with skills in welding ...      Full Time   \n",
       "122  Perm rate $30. Structural steel fab & weld out...      Full Time   \n",
       "123  BankSA is an iconic banking brand, with more t...      Full Time   \n",
       "124  BankSA is an iconic banking brand, with more t...      Full Time   \n",
       "125  anzuk education are searching for reliable, en...  Contract/Temp   \n",
       "\n",
       "     AverageSalary  \n",
       "121           15.0  \n",
       "122           15.0  \n",
       "123           15.0  \n",
       "124           15.0  \n",
       "125           15.0  "
      ]
     },
     "execution_count": 8,
     "metadata": {},
     "output_type": "execute_result"
    }
   ],
   "source": [
    "#Clean date field and set datatype\n",
    "df[\"Date\"] = df[\"Date\"].replace(to_replace=r'T.*', value='', regex=True) #Remove T00:000... from end of dates\n",
    "df[\"Date\"] = pd.to_datetime(df[\"Date\"]) \n",
    "\n",
    "#Remove Redundant Columns\n",
    "df = df.assign(AverageSalary= (df[\"LowestSalary\"] + df[\"HighestSalary\"])/2 )\n",
    "df.drop(['FullDescription', 'Area', 'HighestSalary','LowestSalary'], axis=1, inplace=True)\n",
    "\n",
    "#Remove Duplicate rows and rows with NaN values\n",
    "df.drop_duplicates(subset=['Title', 'Date', 'Location', 'Company'], keep='first', inplace=True)\n",
    "df.dropna(inplace=True)\n",
    "df.head()"
   ]
  },
  {
   "cell_type": "markdown",
   "metadata": {},
   "source": [
    "# 2) Data Analysis and Interpretation"
   ]
  },
  {
   "cell_type": "markdown",
   "metadata": {},
   "source": [
    "## Describe Dataset (Get Metadata)\n"
   ]
  },
  {
   "cell_type": "code",
   "execution_count": 9,
   "metadata": {},
   "outputs": [
    {
     "name": "stdout",
     "output_type": "stream",
     "text": [
      "Category General Info:\n",
      "~~~~~~~~~~~~~~~~~~~~~~\n",
      "\n",
      "Unique Listings:\t 156182\n",
      "Unique Job Titles:\t 100634\n",
      "Unique Job Sectors:\t 30\n",
      "Unique Sub Sectors\t 338\n",
      "Unique Companies:\t 28782\n",
      "Unique Cities:\t\t 65\n",
      "Unique Contract Types:\t 4\n",
      "Unique Dates:\t\t 77\n",
      "\n",
      "\n",
      "Earliest Listing Date:\t 01/10/2018\n",
      "Latest Listing Date:\t 16/12/2018\n",
      "Range of listing dates:\t 76 days 00:00:00\n",
      "\n",
      "\n",
      "Minimum Average Salary:\t 15.0\n",
      "Maximum Average Salary:\t 599.5\n",
      "Average Salaries Range:\t 584.5\n"
     ]
    }
   ],
   "source": [
    "print(\"Category General Info:\")\n",
    "print(\"~~~~~~~~~~~~~~~~~~~~~~\\n\")\n",
    "print(\"Unique Listings:\\t\",len(df))\n",
    "print(\"Unique Job Titles:\\t\",len(df[\"Title\"].unique()))\n",
    "print(\"Unique Job Sectors:\\t\",len(df[\"Classification\"].unique()))\n",
    "print(\"Unique Sub Sectors\\t\",len(df[\"SubClassification\"].unique()))\n",
    "print(\"Unique Companies:\\t\",len(df[\"Company\"].unique()))\n",
    "print(\"Unique Cities:\\t\\t\",len(df[\"Location\"].unique()))\n",
    "print(\"Unique Contract Types:\\t\",len(df[\"JobType\"].unique()))\n",
    "print(\"Unique Dates:\\t\\t\",len(df[\"Date\"].unique()))\n",
    "print(\"\\n\")\n",
    "print(\"Earliest Listing Date:\\t\", df[\"Date\"].min().strftime('%d/%m/%Y'))\n",
    "print(\"Latest Listing Date:\\t\", df[\"Date\"].max().strftime('%d/%m/%Y'))\n",
    "print(\"Range of listing dates:\\t\", df[\"Date\"].max()-df[\"Date\"].min())\n",
    "print(\"\\n\")\n",
    "print(\"Minimum Average Salary:\\t\", df[\"AverageSalary\"].min())\n",
    "print(\"Maximum Average Salary:\\t\", df[\"AverageSalary\"].max())\n",
    "print(\"Average Salaries Range:\\t\", df[\"AverageSalary\"].max()-df[\"AverageSalary\"].min())"
   ]
  },
  {
   "cell_type": "code",
   "execution_count": 10,
   "metadata": {
    "scrolled": true
   },
   "outputs": [
    {
     "name": "stdout",
     "output_type": "stream",
     "text": [
      "Category Info:\n",
      "~~~~~~~~~~~~~~~~~~~~~~\n",
      "\n",
      "Unique Job Categories:\n",
      " ['Trades & Services' 'Banking & Financial Services' 'Education & Training'\n",
      " 'Engineering' 'Information & Communication Technology'\n",
      " 'Marketing & Communications' 'CEO & General Management'\n",
      " 'Human Resources & Recruitment' 'Accounting' 'Design & Architecture'\n",
      " 'Manufacturing, Transport & Logistics' 'Legal' 'Real Estate & Property'\n",
      " 'Healthcare & Medical' 'Construction' 'Government & Defence'\n",
      " 'Sport & Recreation' 'Hospitality & Tourism' 'Sales'\n",
      " 'Retail & Consumer Products' 'Call Centre & Customer Service'\n",
      " 'Mining, Resources & Energy' 'Administration & Office Support'\n",
      " 'Science & Technology' 'Advertising, Arts & Media'\n",
      " 'Insurance & Superannuation' 'Community Services & Development'\n",
      " 'Farming, Animals & Conservation' 'Self Employment'\n",
      " 'Consulting & Strategy'] \n",
      "\n",
      "Unique Job Titles:\n",
      " ['Fabricator/Installer' 'Boilermaker'\n",
      " 'Relationship Manager - Industry Banking' ...\n",
      " 'IT Test Analyst OR Senior IT Test Analyst'\n",
      " 'Design Manager | Mid Tier Construction | Newcastle Location'\n",
      " 'Environmental Officer- Contaminated Land'] \n",
      "\n",
      "Unique Job Fields:\n",
      " ['Welders & Boilermakers' 'Banking - Business'\n",
      " 'Teaching - Early Childhood' 'Mechanical Engineering'\n",
      " 'Networks & Systems Administration' 'Product Management & Development'\n",
      " 'Programme & Project Management' 'General/Business Unit Manager'\n",
      " 'Help Desk & IT Support' 'Remuneration & Benefits'\n",
      " 'Business Services & Corporate Advisory' 'Illustration & Animation'\n",
      " 'Sales - Pre & Post' 'Other' 'Maintenance & Handyperson Services'\n",
      " 'Environment & Planning Law' 'Security'\n",
      " 'Financial Accounting & Reporting' 'Management' 'Pharmacy' 'Consultants'\n",
      " 'Electricians' 'Psychology, Counselling & Social Work' 'Architects'\n",
      " 'Foreperson/Supervisors' 'Compliance & Risk' 'Technicians'\n",
      " 'Audit - External' 'Analysts' 'Teaching - Tertiary' 'Audit - Internal'\n",
      " 'Physiotherapy, OT & Rehabilitation' 'Emergency Services'\n",
      " 'Stockbroking & Trading' 'Corporate Finance & Investment Banking'\n",
      " 'Digital & Search Marketing' 'Sales' 'Project Management'\n",
      " 'Contracts Management' 'Financial Managers & Controllers'\n",
      " 'Clinical/Medical Research' 'Business/Systems Analysts'\n",
      " 'Government - State' 'Residential Leasing & Property Management'\n",
      " 'Medical Administration' 'Bar & Beverage Staff'\n",
      " 'Kitchen & Sandwich Hands' 'Waiting Staff'\n",
      " 'Sales Representatives/Consultants' 'Fitness & Personal Training'\n",
      " 'Systems Accounting & IT Audit' 'Gardening & Landscaping'\n",
      " 'Management - Store' 'Assembly & Process Work'\n",
      " 'Fitters, Turners & Machinists' 'Customer Service - Customer Facing'\n",
      " 'General Practitioners' 'Mining - Operations' 'Hair & Beauty Services'\n",
      " 'Nursing - Aged Care' 'Administrative Assistants' 'Labourers'\n",
      " 'Production, Planning & Scheduling' 'PA, EA & Secretarial' 'Chefs/Cooks'\n",
      " 'Warehousing, Storage & Distribution' 'Architecture'\n",
      " 'Front Office & Guest Services' 'Developers/Programmers'\n",
      " 'Retail Assistants' 'Surveying' 'Teaching - Vocational'\n",
      " 'Government - Federal' 'Mining - Drill & Blast' 'Teaching - Primary'\n",
      " 'Administration' 'Chemistry & Physics'\n",
      " 'Media Strategy, Planning & Buying' 'Direct Marketing & CRM'\n",
      " 'Childcare & Outside School Hours Care' 'Financial Planning'\n",
      " 'Marketing Communications' 'Management - Agency' 'Speech Therapy'\n",
      " 'Graphic Design' 'Mining - Engineering & Maintenance' 'Medical Imaging'\n",
      " 'Body Corporate & Facilities Management' 'Office Management'\n",
      " 'Purchasing, Procurement & Inventory' 'Housekeeping'\n",
      " 'Web Development & Production' 'Taxation' 'Occupational Health & Safety'\n",
      " 'Client & Sales Administration' 'Receptionists' 'Engineering - Software'\n",
      " 'Mining - Exploration & Geoscience' 'Payroll' 'Legal Secretaries'\n",
      " 'Customer Service - Call Centre' 'Architectural Drafting'\n",
      " 'Coaching & Instruction' 'Plumbers'\n",
      " 'Nursing - General Medical & Surgical'\n",
      " 'Natural Therapies & Alternative Medicine' 'Residential Sales'\n",
      " 'Pickers & Packers' 'Account & Relationship Management'\n",
      " 'New Business Development' 'Credit' 'Civil/Structural Engineering'\n",
      " 'Road Transport' 'Dental' 'Claims' 'Plant & Machinery Operators'\n",
      " 'Employment Services' 'Building Trades' 'Automotive Trades'\n",
      " 'Accounts Receivable/Credit Control' 'Property Law'\n",
      " 'Marketing Assistants/Coordinators' 'Horticulture' 'Government - Local'\n",
      " 'Nursing - Theatre & Recovery' 'Community Development' 'Optical'\n",
      " 'Bookkeeping & Small Practice Accounting' 'Machine Operators'\n",
      " 'Aged & Disability Support' 'Carpentry & Cabinet Making'\n",
      " 'Sales - Outbound' 'Client Services' 'Recruitment - Agency'\n",
      " 'Accounts Officers/Clerks' 'Couriers, Drivers & Postal Services'\n",
      " 'Locksmiths' 'Market Research & Analysis' 'Security Services'\n",
      " 'Workplace Training & Assessment' 'Air Conditioning & Refrigeration'\n",
      " 'Pharmaceuticals & Medical Devices' 'Maintenance'\n",
      " 'Contracts Administration' 'Nursing - Management' 'Assistant Accountants'\n",
      " 'Rail & Maritime Transport' 'Management - Department/Assistant'\n",
      " 'Self Employment' 'Field Engineering' 'Estimating'\n",
      " 'Management Accounting & Budgeting' 'Consulting & Generalist HR'\n",
      " 'Engineering - Network' 'Analysis & Reporting'\n",
      " 'Building Services Engineering' 'Project Engineering'\n",
      " 'Engineering Drafting' 'Industrial Design' 'Planning' 'Tour Guides'\n",
      " 'Accounts Payable' 'Mortgages' 'Environmental Engineering'\n",
      " 'Sales - Inbound' 'Travel Agents/Consultants' 'Water & Waste Engineering'\n",
      " 'Interior Design' 'Commercial Sales, Leasing & Property Mgmt'\n",
      " 'Health, Safety & Environment' 'Corporate & Commercial Law'\n",
      " 'Teaching - Secondary' 'Biological & Biomedical Sciences'\n",
      " 'Chemical Engineering' 'Electrical/Electronic Engineering' 'Team Leaders'\n",
      " 'Testing & Quality Assurance' 'Child Welfare, Youth & Family Services'\n",
      " 'Cleaning Services' 'Tailors & Dressmakers' 'Programming & Production'\n",
      " \"Workers' Compensation\" 'Journalism & Writing' 'Fashion & Textile Design'\n",
      " 'Editing & Publishing' 'Reservations' 'Generalists - In-house'\n",
      " 'Power Generation & Distribution'\n",
      " 'Nursing - Psych, Forensic & Correctional Health'\n",
      " 'Web & Interaction Design' 'Database Development & Administration'\n",
      " 'Tax Law' 'Aviation Services' 'Litigation & Dispute Resolution'\n",
      " 'Brand Management' 'Medical Specialists'\n",
      " 'Nursing - Midwifery, Neo-Natal, SCN & NICU' 'Planning & Scheduling'\n",
      " 'Nursing - Community, Maternal & Child Health' 'Telecommunications'\n",
      " 'Company Secretaries' 'Nursing - A&E, Critical Care & ICU'\n",
      " 'Generalists - Law Firm' 'Farm Labour' 'Recruitment - Internal'\n",
      " 'Promotions' 'Quality Assurance & Control' 'Farm Management'\n",
      " 'Printing & Publishing Services' 'Funds Management' 'Sales Coordinators'\n",
      " 'Management - Universities' 'Urban Design & Planning'\n",
      " 'Import/Export & Customs' 'Retail & Property Development' 'Buying'\n",
      " 'Painters & Sign Writers' 'Agency Account Management'\n",
      " 'Management - Area/Multi-site' 'Management & Support'\n",
      " 'Supervisors/Team Leaders' 'Nursing - Paediatric & PICU'\n",
      " 'Systems Engineering' 'Insurance & Superannuation Law'\n",
      " 'Bakers & Pastry Chefs' 'Law Clerks & Paralegals' 'Butchers'\n",
      " 'Collections' 'Management - Internal' 'Strategy & Planning' 'Pathology'\n",
      " 'Housing & Homelessness Services' 'Nursing - High Acuity'\n",
      " 'Library Services & Information Management' 'Student Services'\n",
      " 'Construction Law' 'Oil & Gas - Engineering & Maintenance'\n",
      " 'Industrial Engineering' 'Ambulance/Paramedics' 'Mining - Processing'\n",
      " 'Technical Writing' 'Nursing - Educators & Facilitators'\n",
      " 'Industrial Relations & Employment Law' 'Process Engineering'\n",
      " 'Fishing & Aquaculture' 'Laboratory & Technical Services'\n",
      " 'Team Leaders/Supervisors' 'Natural Resources & Water' 'Policy'\n",
      " 'Environmental, Earth & Geosciences'\n",
      " 'Records Management & Document Control' 'Training & Development'\n",
      " 'Management & Change Consulting' 'Legal Practice Management'\n",
      " 'Banking & Finance Law' 'Banking - Retail/Branch' 'Police & Corrections'\n",
      " 'Indigenous & Multicultural Services' 'Management - Schools'\n",
      " 'Merchandisers' 'Data Entry & Word Processing' 'Oil & Gas - Operations'\n",
      " 'Gaming' 'Fundraising' 'Event Management'\n",
      " 'Environment & Sustainability Consulting' 'Personal Injury Law'\n",
      " 'Industrial & Employee Relations' 'Residents & Registrars'\n",
      " 'Cost Accounting' 'Management - Vocational'\n",
      " 'Veterinary Services & Animal Welfare' 'Policy, Planning & Regulation'\n",
      " 'Brokerage' 'Freight/Cargo Forwarding' 'Automotive Engineering'\n",
      " 'Landscape Architecture' 'Volunteer Coordination & Support'\n",
      " 'Oil & Gas - Production & Refinement'\n",
      " 'Banking - Corporate & Institutional' 'Performing Arts' 'Family Law'\n",
      " 'Teaching Aides & Special Needs' 'Conservation, Parks & Wildlife'\n",
      " 'Research & Fellowships' 'CEO' 'Oil & Gas - Drilling' 'Tutoring'\n",
      " 'Settlements' 'Risk Consulting' 'Environmental Services'\n",
      " 'Mathematics, Statistics & Information Sciences' 'Underwriting'\n",
      " 'Airlines' 'Insolvency & Corporate Recovery' 'Agronomy & Farm Services'\n",
      " 'Engineering - Hardware' 'Winery & Viticulture' 'Nannies & Babysitters'\n",
      " 'Public Relations & Corporate Affairs' 'Fleet Management' 'Dieticians'\n",
      " 'Superannuation' 'Photography' 'Computer Operators'\n",
      " 'Public Transport & Taxi Services' 'Internal Communications'\n",
      " 'Trade Marketing' 'Organisational Development' 'Aerospace Engineering'\n",
      " 'Food Technology & Safety' 'Criminal & Civil Law'\n",
      " 'Intellectual Property Law' 'Biotechnology & Genetics'\n",
      " 'Chiropractic & Osteopathic' 'Pattern Makers & Garment Technicians'\n",
      " 'Materials Handling Engineering' 'Oil & Gas - Exploration & Geoscience'\n",
      " 'Assessment' 'Local Government' 'Air Force' 'Inventory & Fixed Assets'\n",
      " 'Treasury' 'Government' 'Art Direction' 'Valuation' 'Supervisors'\n",
      " 'Materials Sciences' 'Navy' 'Corporate Development'\n",
      " 'Forensic Accounting & Investigation' 'Actuarial' 'COO & MD'\n",
      " 'Modelling & Simulation' 'Floristry' 'Board Appointments'\n",
      " 'Fund Administration' 'Army'] \n",
      "\n",
      "Unique Companies:\n",
      " ['WORKPLACE ACCESS & SAFETY' 'RPM Contracting QLD P/l' 'BankSA' ...\n",
      " 'Lindfield Public School P and C Association' 'Access Your Supports'\n",
      " 'Sigma Executive'] \n",
      "\n",
      "Unique Cities:\n",
      " ['Melbourne' 'Brisbane' 'Adelaide' 'Darwin' 'Sydney'\n",
      " 'Toowoomba & Darling Downs' 'Perth' 'Port Hedland, Karratha & Pilbara'\n",
      " 'ACT' 'Yarra Valley & High Country' 'Wollongong, Illawarra & South Coast'\n",
      " 'Port Macquarie & Mid North Coast' 'Gold Coast'\n",
      " 'Southern Highlands & Tablelands' 'Albury Area'\n",
      " 'Yorke Peninsula & Clare Valley' 'Kalgoorlie, Goldfields & Esperance'\n",
      " 'Newcastle, Maitland & Hunter' 'Bendigo, Goldfields & Macedon Ranges'\n",
      " 'Wagga Wagga & Riverina' 'Mornington Peninsula & Bass Coast'\n",
      " 'South West Coast VIC' 'Lismore & Far North Coast' 'Sunshine Coast'\n",
      " 'Alice Springs & Central Australia' 'Dubbo & Central NSW'\n",
      " 'Devonport & North West' 'Launceston & North East'\n",
      " 'Ballarat & Central Highlands' 'Whyalla & Eyre Peninsula' 'Northern QLD'\n",
      " 'Richmond & Hawkesbury' 'Bunbury & South West' 'Gosford & Central Coast'\n",
      " 'Cairns & Far North' 'Mackay & Coalfields' 'Hobart'\n",
      " 'Geraldton, Gascoyne & Midwest' 'Rockhampton & Capricorn Coast'\n",
      " 'Adelaide Hills & Barossa' 'Shepparton & Goulburn Valley'\n",
      " 'Bairnsdale & Gippsland' 'Coffs Harbour & North Coast'\n",
      " 'Mt Gambier & Limestone Coast' 'Riverland & Murray Mallee'\n",
      " 'Hervey Bay & Fraser Coast' 'Blue Mountains & Central West'\n",
      " 'Mildura & Murray' 'Far West & North Central NSW'\n",
      " 'Gladstone & Central QLD' 'Somerset & Lockyer' 'Western QLD'\n",
      " 'Albany & Great Southern' 'Broome & Kimberley'\n",
      " 'Bundaberg & Wide Bay Burnett' 'Mandurah & Peel'\n",
      " 'Fleurieu Peninsula & Kangaroo Island' 'Katherine & Northern Australia'\n",
      " 'Northam & Wheatbelt' 'Tamworth & North West NSW'\n",
      " 'West Gippsland & Latrobe Valley' 'Tumut, Snowy & Monaro'\n",
      " 'Horsham & Grampians' 'Central & South East TAS'\n",
      " 'Coober Pedy & Outback SA'] \n",
      "\n",
      "Unique Contract Types:\n",
      " ['Full Time' 'Contract/Temp' 'Part Time' 'Casual/Vacation'] \n",
      "\n"
     ]
    }
   ],
   "source": [
    "#List the unique values each important category can have\n",
    "print(\"Category Info:\")\n",
    "print(\"~~~~~~~~~~~~~~~~~~~~~~\\n\")\n",
    "print(\"Unique Job Categories:\\n\", df[\"Classification\"].unique(),\"\\n\")\n",
    "print(\"Unique Job Titles:\\n\", df[\"Title\"].unique(), \"\\n\")\n",
    "print(\"Unique Job Fields:\\n\", df[\"SubClassification\"].unique(), \"\\n\")\n",
    "print(\"Unique Companies:\\n\", df[\"Company\"].unique(), \"\\n\")\n",
    "print(\"Unique Cities:\\n\", df[\"Location\"].unique(), \"\\n\")\n",
    "print(\"Unique Contract Types:\\n\", df[\"JobType\"].unique(), \"\\n\")"
   ]
  },
  {
   "cell_type": "markdown",
   "metadata": {},
   "source": [
    "## Analysis By Location"
   ]
  },
  {
   "cell_type": "code",
   "execution_count": 11,
   "metadata": {
    "scrolled": true
   },
   "outputs": [
    {
     "name": "stdout",
     "output_type": "stream",
     "text": [
      "Number of Listings Per City:\n",
      "~~~~~~~~~~~~~~~~~~~~~~\n",
      "Sydney                                  48846\n",
      "Melbourne                               36755\n",
      "Brisbane                                16795\n",
      "Perth                                   10519\n",
      "Adelaide                                 5233\n",
      "                                        ...  \n",
      "Yorke Peninsula & Clare Valley             79\n",
      "Tumut, Snowy & Monaro                      75\n",
      "Fleurieu Peninsula & Kangaroo Island       56\n",
      "Somerset & Lockyer                         54\n",
      "Central & South East TAS                   40\n",
      "Name: Location, Length: 65, dtype: int64\n"
     ]
    }
   ],
   "source": [
    "print(\"Number of Listings Per City:\")\n",
    "print(\"~~~~~~~~~~~~~~~~~~~~~~\")\n",
    "city_counts = df['Location'].value_counts()\n",
    "print(city_counts)"
   ]
  },
  {
   "cell_type": "code",
   "execution_count": 12,
   "metadata": {},
   "outputs": [
    {
     "data": {
      "image/png": "[encoded data removed]",
      "text/plain": [
       "<Figure size 432x288 with 1 Axes>"
      ]
     },
     "metadata": {},
     "output_type": "display_data"
    }
   ],
   "source": [
    "city_counts[0:5].plot(kind='pie', title=\"Top 5 Cities for Job Listings\", autopct='%.2f')\n",
    "plt.ylabel(\"\")\n",
    "plt.tight_layout()\n",
    "plt.savefig('figures\\TopCities_Listings.png')\n",
    "plt.show()\n"
   ]
  },
  {
   "cell_type": "code",
   "execution_count": 13,
   "metadata": {},
   "outputs": [
    {
     "name": "stdout",
     "output_type": "stream",
     "text": [
      "Average Salary Per City:\n",
      "~~~~~~~~~~~~~~~~~~~~~~\n"
     ]
    },
    {
     "data": {
      "text/plain": [
       "Location\n",
       "Fleurieu Peninsula & Kangaroo Island     48.571429\n",
       "Yarra Valley & High Country              52.946250\n",
       "Adelaide Hills & Barossa                 53.393333\n",
       "Riverland & Murray Mallee                53.828829\n",
       "Richmond & Hawkesbury                    57.190476\n",
       "                                           ...    \n",
       "Sydney                                  102.549236\n",
       "Western QLD                             104.430233\n",
       "Katherine & Northern Australia          105.704225\n",
       "Port Macquarie & Mid North Coast        108.812020\n",
       "ACT                                     139.761834\n",
       "Name: AverageSalary, Length: 65, dtype: float64"
      ]
     },
     "execution_count": 13,
     "metadata": {},
     "output_type": "execute_result"
    }
   ],
   "source": [
    "print(\"Average Salary Per City:\")\n",
    "print(\"~~~~~~~~~~~~~~~~~~~~~~\")\n",
    "LocationSalaries = df[['Location', 'AverageSalary']].groupby('Location')['AverageSalary']\n",
    "LocationSalaries.mean().sort_values()"
   ]
  },
  {
   "cell_type": "code",
   "execution_count": 14,
   "metadata": {},
   "outputs": [
    {
     "data": {
      "image/png": "[encoded data removed]",
      "text/plain": [
       "<Figure size 432x288 with 1 Axes>"
      ]
     },
     "metadata": {
      "needs_background": "light"
     },
     "output_type": "display_data"
    },
    {
     "data": {
      "image/png": "[encoded data removed]",
      "text/plain": [
       "<Figure size 432x288 with 1 Axes>"
      ]
     },
     "metadata": {
      "needs_background": "light"
     },
     "output_type": "display_data"
    }
   ],
   "source": [
    "LocationSalaries.mean().sort_values().nlargest(5).plot(kind='bar', title=\"Top Cities for Salary\")\n",
    "plt.ylabel(\"Average Salary (Thousands of $)\")\n",
    "plt.xlabel(\"City\")\n",
    "plt.savefig('figures\\TopCities_Salary', bbox_inches=\"tight\")\n",
    "plt.show()\n",
    "LocationSalaries.mean().sort_values().nsmallest(5).plot(kind='bar', title=\"Bottom Cities for Salary\")\n",
    "plt.ylabel(\"Average Salary (Thousands of $)\")\n",
    "plt.xlabel(\"City\")\n",
    "plt.savefig('figures\\BottomCities_Listings', bbox_inches=\"tight\")\n",
    "plt.show()\n"
   ]
  },
  {
   "cell_type": "markdown",
   "metadata": {},
   "source": [
    "## Analysis By Sector "
   ]
  },
  {
   "cell_type": "code",
   "execution_count": 15,
   "metadata": {},
   "outputs": [
    {
     "name": "stdout",
     "output_type": "stream",
     "text": [
      "Number of Listings Per Sector:\n",
      "~~~~~~~~~~~~~~~~~~~~~~\n"
     ]
    },
    {
     "data": {
      "text/plain": [
       "Information & Communication Technology    18640\n",
       "Trades & Services                         14311\n",
       "Healthcare & Medical                      13444\n",
       "Hospitality & Tourism                     12436\n",
       "Manufacturing, Transport & Logistics       9800\n",
       "Administration & Office Support            7864\n",
       "Accounting                                 7543\n",
       "Construction                               6839\n",
       "Education & Training                       6805\n",
       "Retail & Consumer Products                 6668\n",
       "Sales                                      6570\n",
       "Engineering                                5171\n",
       "Mining, Resources & Energy                 5036\n",
       "Government & Defence                       5026\n",
       "Banking & Financial Services               3666\n",
       "Community Services & Development           3533\n",
       "Legal                                      3388\n",
       "Human Resources & Recruitment              3332\n",
       "Marketing & Communications                 3171\n",
       "Call Centre & Customer Service             3010\n",
       "Real Estate & Property                     2917\n",
       "Design & Architecture                      1474\n",
       "Insurance & Superannuation                 1096\n",
       "Consulting & Strategy                       887\n",
       "Sport & Recreation                          785\n",
       "Advertising, Arts & Media                   697\n",
       "Farming, Animals & Conservation             687\n",
       "Science & Technology                        680\n",
       "CEO & General Management                    626\n",
       "Self Employment                              80\n",
       "Name: Classification, dtype: int64"
      ]
     },
     "execution_count": 15,
     "metadata": {},
     "output_type": "execute_result"
    }
   ],
   "source": [
    "print(\"Number of Listings Per Sector:\")\n",
    "print(\"~~~~~~~~~~~~~~~~~~~~~~\")\n",
    "sector_counts = df['Classification'].value_counts()\n",
    "sector_counts"
   ]
  },
  {
   "cell_type": "code",
   "execution_count": 16,
   "metadata": {},
   "outputs": [
    {
     "data": {
      "image/png": "[encoded data removed]",
      "text/plain": [
       "<Figure size 432x288 with 1 Axes>"
      ]
     },
     "metadata": {},
     "output_type": "display_data"
    }
   ],
   "source": [
    "sector_counts[0:5].plot(kind='pie', title=\"Top Sectors for Job Listings\", autopct='%.2f')\n",
    "plt.ylabel(\"\")\n",
    "plt.savefig('figures\\TopSectors_Listings', bbox_inches=\"tight\")\n",
    "plt.show()"
   ]
  },
  {
   "cell_type": "code",
   "execution_count": 17,
   "metadata": {},
   "outputs": [
    {
     "data": {
      "text/plain": [
       "Classification\n",
       "Hospitality & Tourism                      39.959151\n",
       "Retail & Consumer Products                 44.455234\n",
       "Administration & Office Support            48.313009\n",
       "Call Centre & Customer Service             48.451661\n",
       "Trades & Services                          53.471106\n",
       "Community Services & Development           56.348005\n",
       "Sport & Recreation                         57.222293\n",
       "Farming, Animals & Conservation            57.944687\n",
       "Manufacturing, Transport & Logistics       58.172908\n",
       "Advertising, Arts & Media                  69.578192\n",
       "Education & Training                       71.037325\n",
       "Real Estate & Property                     80.769284\n",
       "Sales                                      81.469787\n",
       "Self Employment                            83.306250\n",
       "Marketing & Communications                 83.767424\n",
       "Design & Architecture                      86.943351\n",
       "Human Resources & Recruitment              87.271459\n",
       "Accounting                                 87.310288\n",
       "Insurance & Superannuation                 89.861770\n",
       "Science & Technology                       98.136765\n",
       "Government & Defence                      103.643056\n",
       "Banking & Financial Services              112.163393\n",
       "Legal                                     118.941116\n",
       "Engineering                               119.571940\n",
       "Healthcare & Medical                      121.100602\n",
       "Construction                              124.918921\n",
       "Mining, Resources & Energy                125.761021\n",
       "Consulting & Strategy                     156.982525\n",
       "Information & Communication Technology    176.919608\n",
       "CEO & General Management                  254.665335\n",
       "Name: AverageSalary, dtype: float64"
      ]
     },
     "execution_count": 17,
     "metadata": {},
     "output_type": "execute_result"
    }
   ],
   "source": [
    "SectorSalaries = df[['Classification', 'AverageSalary']].groupby('Classification')['AverageSalary']\n",
    "SectorSalaries.mean().sort_values()"
   ]
  },
  {
   "cell_type": "code",
   "execution_count": 18,
   "metadata": {},
   "outputs": [
    {
     "data": {
      "image/png": "[encoded data removed]",
      "text/plain": [
       "<Figure size 432x288 with 1 Axes>"
      ]
     },
     "metadata": {
      "needs_background": "light"
     },
     "output_type": "display_data"
    },
    {
     "data": {
      "image/png": "[encoded data removed]",
      "text/plain": [
       "<Figure size 432x288 with 1 Axes>"
      ]
     },
     "metadata": {
      "needs_background": "light"
     },
     "output_type": "display_data"
    }
   ],
   "source": [
    "SectorSalaries.mean().sort_values().nlargest(5).plot(kind='bar', title=\"Top Sectors for Salary\")\n",
    "plt.ylabel(\"Average Salary (Thousands of $)\")\n",
    "plt.xlabel(\"Sector\")\n",
    "\n",
    "plt.savefig('figures\\TopSectors_Salary', bbox_inches=\"tight\")\n",
    "plt.show()\n",
    "SectorSalaries.mean().sort_values().nsmallest(5).plot(kind='bar', title=\"Bottom Sectors for Salary\")\n",
    "plt.ylabel(\"Average Salary (Thousands of $)\")\n",
    "plt.xlabel(\"Sector\")\n",
    "\n",
    "plt.savefig('figures\\BottomSectors_Salary', bbox_inches=\"tight\")\n",
    "plt.show()"
   ]
  },
  {
   "cell_type": "markdown",
   "metadata": {},
   "source": [
    "## Analysis By Date"
   ]
  },
  {
   "cell_type": "code",
   "execution_count": 19,
   "metadata": {
    "scrolled": true
   },
   "outputs": [
    {
     "data": {
      "image/png": "[encoded data removed]",
      "text/plain": [
       "<Figure size 432x288 with 1 Axes>"
      ]
     },
     "metadata": {
      "needs_background": "light"
     },
     "output_type": "display_data"
    }
   ],
   "source": [
    "date_counts = df['Date'].value_counts()\n",
    "\n",
    "sorted_date_counts =sorted(date_counts.items())\n",
    "sorted_dates = [s[0].strftime('%d/%m/%Y') for s in sorted_date_counts]\n",
    "sorted_counts = [int(s[1]) for s in sorted_date_counts]\n",
    "\n",
    "days = pd.DataFrame(list(zip(sorted_dates, sorted_counts)), columns =['Date', 'Number of Listings'])\n",
    "\n",
    "ax = days.plot(kind='bar', title=\"Job Listings Per Day\")\n",
    "plt.xticks(rotation='vertical')\n",
    "idxs = []\n",
    "dates = []\n",
    "for (i,date) in enumerate(sorted_dates):\n",
    "    if i%5 == 0:\n",
    "        idxs.append(i)\n",
    "        dates.append(date)\n",
    "plt.xticks(idxs, dates)\n",
    "plt.tight_layout()\n",
    "ax.set_xlabel(\"Date\")\n",
    "plt.savefig('figures\\JobListingsPerDay')\n",
    "plt.show()\n",
    "\n"
   ]
  },
  {
   "cell_type": "markdown",
   "metadata": {},
   "source": [
    "# Trending of the Market\n",
    "\n"
   ]
  },
  {
   "cell_type": "markdown",
   "metadata": {},
   "source": [
    "## Check to see which sectors had the highest daily postings - indicating high growth"
   ]
  },
  {
   "cell_type": "code",
   "execution_count": 20,
   "metadata": {},
   "outputs": [],
   "source": [
    "sector_trend = df[['Classification', 'Date', \"Id\"]].groupby([\"Date\", \"Classification\"]).size().reset_index()\n",
    "sector_trend.columns = [\"Date\", \"Classification\", \"Count\"]\n",
    "\n",
    "idx = sector_trend.groupby(['Date'])['Count'].transform(max) == sector_trend['Count']\n",
    "sector_trend = sector_trend[idx]"
   ]
  },
  {
   "cell_type": "markdown",
   "metadata": {},
   "source": [
    "### Tabulate the most listed sector for each date "
   ]
  },
  {
   "cell_type": "code",
   "execution_count": 21,
   "metadata": {},
   "outputs": [
    {
     "data": {
      "text/html": [
       "<div>\n",
       "<style scoped>\n",
       "    .dataframe tbody tr th:only-of-type {\n",
       "        vertical-align: middle;\n",
       "    }\n",
       "\n",
       "    .dataframe tbody tr th {\n",
       "        vertical-align: top;\n",
       "    }\n",
       "\n",
       "    .dataframe thead th {\n",
       "        text-align: right;\n",
       "    }\n",
       "</style>\n",
       "<table border=\"1\" class=\"dataframe\">\n",
       "  <thead>\n",
       "    <tr style=\"text-align: right;\">\n",
       "      <th></th>\n",
       "      <th>Date</th>\n",
       "      <th>Classification</th>\n",
       "      <th>Count</th>\n",
       "    </tr>\n",
       "  </thead>\n",
       "  <tbody>\n",
       "    <tr>\n",
       "      <td>17</td>\n",
       "      <td>2018-10-01</td>\n",
       "      <td>Information &amp; Communication Technology</td>\n",
       "      <td>234</td>\n",
       "    </tr>\n",
       "    <tr>\n",
       "      <td>45</td>\n",
       "      <td>2018-10-02</td>\n",
       "      <td>Information &amp; Communication Technology</td>\n",
       "      <td>440</td>\n",
       "    </tr>\n",
       "    <tr>\n",
       "      <td>75</td>\n",
       "      <td>2018-10-03</td>\n",
       "      <td>Information &amp; Communication Technology</td>\n",
       "      <td>564</td>\n",
       "    </tr>\n",
       "    <tr>\n",
       "      <td>117</td>\n",
       "      <td>2018-10-04</td>\n",
       "      <td>Trades &amp; Services</td>\n",
       "      <td>753</td>\n",
       "    </tr>\n",
       "    <tr>\n",
       "      <td>147</td>\n",
       "      <td>2018-10-05</td>\n",
       "      <td>Trades &amp; Services</td>\n",
       "      <td>496</td>\n",
       "    </tr>\n",
       "    <tr>\n",
       "      <td>...</td>\n",
       "      <td>...</td>\n",
       "      <td>...</td>\n",
       "      <td>...</td>\n",
       "    </tr>\n",
       "    <tr>\n",
       "      <td>1720</td>\n",
       "      <td>2018-12-12</td>\n",
       "      <td>Information &amp; Communication Technology</td>\n",
       "      <td>543</td>\n",
       "    </tr>\n",
       "    <tr>\n",
       "      <td>1746</td>\n",
       "      <td>2018-12-13</td>\n",
       "      <td>Healthcare &amp; Medical</td>\n",
       "      <td>502</td>\n",
       "    </tr>\n",
       "    <tr>\n",
       "      <td>1779</td>\n",
       "      <td>2018-12-14</td>\n",
       "      <td>Information &amp; Communication Technology</td>\n",
       "      <td>556</td>\n",
       "    </tr>\n",
       "    <tr>\n",
       "      <td>1806</td>\n",
       "      <td>2018-12-15</td>\n",
       "      <td>Hospitality &amp; Tourism</td>\n",
       "      <td>37</td>\n",
       "    </tr>\n",
       "    <tr>\n",
       "      <td>1827</td>\n",
       "      <td>2018-12-16</td>\n",
       "      <td>Legal</td>\n",
       "      <td>19</td>\n",
       "    </tr>\n",
       "  </tbody>\n",
       "</table>\n",
       "<p>80 rows × 3 columns</p>\n",
       "</div>"
      ],
      "text/plain": [
       "           Date                          Classification  Count\n",
       "17   2018-10-01  Information & Communication Technology    234\n",
       "45   2018-10-02  Information & Communication Technology    440\n",
       "75   2018-10-03  Information & Communication Technology    564\n",
       "117  2018-10-04                       Trades & Services    753\n",
       "147  2018-10-05                       Trades & Services    496\n",
       "...         ...                                     ...    ...\n",
       "1720 2018-12-12  Information & Communication Technology    543\n",
       "1746 2018-12-13                    Healthcare & Medical    502\n",
       "1779 2018-12-14  Information & Communication Technology    556\n",
       "1806 2018-12-15                   Hospitality & Tourism     37\n",
       "1827 2018-12-16                                   Legal     19\n",
       "\n",
       "[80 rows x 3 columns]"
      ]
     },
     "execution_count": 21,
     "metadata": {},
     "output_type": "execute_result"
    }
   ],
   "source": [
    "sector_trend"
   ]
  },
  {
   "cell_type": "markdown",
   "metadata": {},
   "source": [
    "### Find which  sectors are most commonly the highest daily listed"
   ]
  },
  {
   "cell_type": "code",
   "execution_count": 22,
   "metadata": {
    "scrolled": false
   },
   "outputs": [
    {
     "data": {
      "image/png": "[encoded data removed]",
      "text/plain": [
       "<Figure size 432x288 with 1 Axes>"
      ]
     },
     "metadata": {
      "needs_background": "light"
     },
     "output_type": "display_data"
    }
   ],
   "source": [
    "sector_trend.groupby(\"Classification\")[\"Classification\"].count().nlargest(5).plot(kind='bar', title=\"Top 5 Growth Sectors, Days Where Sector Was Most Listed\")\n",
    "plt.xlabel(\"Sector\")\n",
    "plt.ylabel(\"# days sector had the most new listings\")\n",
    "plt.savefig('figures\\TopGrowth_SectorDays', bbox_inches=\"tight\")\n",
    "plt.show()\n"
   ]
  },
  {
   "cell_type": "markdown",
   "metadata": {},
   "source": [
    "### Find which sectors had the highest average daily postings"
   ]
  },
  {
   "cell_type": "code",
   "execution_count": 23,
   "metadata": {
    "scrolled": false
   },
   "outputs": [
    {
     "data": {
      "image/png": "[encoded data removed]",
      "text/plain": [
       "<Figure size 432x288 with 1 Axes>"
      ]
     },
     "metadata": {
      "needs_background": "light"
     },
     "output_type": "display_data"
    }
   ],
   "source": [
    "sector_trend.groupby(\"Classification\")[\"Count\"].mean().nlargest(5).plot(kind='bar', title=\"Top 5 Growth Sectors Average Daily Listings\")\n",
    "plt.xlabel(\"Sector\")\n",
    "plt.ylabel(\"# Average Daily Listings\")\n",
    "plt.savefig('figures\\TopGrowth_SectorAverage', bbox_inches=\"tight\")\n",
    "plt.show()"
   ]
  },
  {
   "cell_type": "markdown",
   "metadata": {},
   "source": [
    "## Check to see which cities had the highest daily postings - indicating high growth"
   ]
  },
  {
   "cell_type": "code",
   "execution_count": 24,
   "metadata": {},
   "outputs": [],
   "source": [
    "location_trend = df[['Location', 'Date', \"Id\"]].groupby([\"Date\", \"Location\"]).size().reset_index()\n",
    "location_trend.columns = [\"Date\", \"Location\", \"Count\"]\n",
    "\n",
    "idx = location_trend.groupby(['Date'])['Count'].transform(max) == location_trend['Count']\n",
    "location_trend = location_trend[idx]"
   ]
  },
  {
   "cell_type": "markdown",
   "metadata": {},
   "source": [
    "### Tabulate the most listed cities for each date "
   ]
  },
  {
   "cell_type": "code",
   "execution_count": 25,
   "metadata": {},
   "outputs": [
    {
     "data": {
      "text/html": [
       "<div>\n",
       "<style scoped>\n",
       "    .dataframe tbody tr th:only-of-type {\n",
       "        vertical-align: middle;\n",
       "    }\n",
       "\n",
       "    .dataframe tbody tr th {\n",
       "        vertical-align: top;\n",
       "    }\n",
       "\n",
       "    .dataframe thead th {\n",
       "        text-align: right;\n",
       "    }\n",
       "</style>\n",
       "<table border=\"1\" class=\"dataframe\">\n",
       "  <thead>\n",
       "    <tr style=\"text-align: right;\">\n",
       "      <th></th>\n",
       "      <th>Date</th>\n",
       "      <th>Location</th>\n",
       "      <th>Count</th>\n",
       "    </tr>\n",
       "  </thead>\n",
       "  <tbody>\n",
       "    <tr>\n",
       "      <td>45</td>\n",
       "      <td>2018-10-01</td>\n",
       "      <td>Sydney</td>\n",
       "      <td>300</td>\n",
       "    </tr>\n",
       "    <tr>\n",
       "      <td>99</td>\n",
       "      <td>2018-10-02</td>\n",
       "      <td>Sydney</td>\n",
       "      <td>669</td>\n",
       "    </tr>\n",
       "    <tr>\n",
       "      <td>162</td>\n",
       "      <td>2018-10-03</td>\n",
       "      <td>Sydney</td>\n",
       "      <td>1373</td>\n",
       "    </tr>\n",
       "    <tr>\n",
       "      <td>227</td>\n",
       "      <td>2018-10-04</td>\n",
       "      <td>Sydney</td>\n",
       "      <td>2144</td>\n",
       "    </tr>\n",
       "    <tr>\n",
       "      <td>292</td>\n",
       "      <td>2018-10-05</td>\n",
       "      <td>Sydney</td>\n",
       "      <td>1668</td>\n",
       "    </tr>\n",
       "    <tr>\n",
       "      <td>...</td>\n",
       "      <td>...</td>\n",
       "      <td>...</td>\n",
       "      <td>...</td>\n",
       "    </tr>\n",
       "    <tr>\n",
       "      <td>3003</td>\n",
       "      <td>2018-12-12</td>\n",
       "      <td>Sydney</td>\n",
       "      <td>1319</td>\n",
       "    </tr>\n",
       "    <tr>\n",
       "      <td>3066</td>\n",
       "      <td>2018-12-13</td>\n",
       "      <td>Sydney</td>\n",
       "      <td>1333</td>\n",
       "    </tr>\n",
       "    <tr>\n",
       "      <td>3131</td>\n",
       "      <td>2018-12-14</td>\n",
       "      <td>Sydney</td>\n",
       "      <td>1543</td>\n",
       "    </tr>\n",
       "    <tr>\n",
       "      <td>3169</td>\n",
       "      <td>2018-12-15</td>\n",
       "      <td>Sydney</td>\n",
       "      <td>144</td>\n",
       "    </tr>\n",
       "    <tr>\n",
       "      <td>3180</td>\n",
       "      <td>2018-12-16</td>\n",
       "      <td>Sydney</td>\n",
       "      <td>26</td>\n",
       "    </tr>\n",
       "  </tbody>\n",
       "</table>\n",
       "<p>79 rows × 3 columns</p>\n",
       "</div>"
      ],
      "text/plain": [
       "           Date Location  Count\n",
       "45   2018-10-01   Sydney    300\n",
       "99   2018-10-02   Sydney    669\n",
       "162  2018-10-03   Sydney   1373\n",
       "227  2018-10-04   Sydney   2144\n",
       "292  2018-10-05   Sydney   1668\n",
       "...         ...      ...    ...\n",
       "3003 2018-12-12   Sydney   1319\n",
       "3066 2018-12-13   Sydney   1333\n",
       "3131 2018-12-14   Sydney   1543\n",
       "3169 2018-12-15   Sydney    144\n",
       "3180 2018-12-16   Sydney     26\n",
       "\n",
       "[79 rows x 3 columns]"
      ]
     },
     "execution_count": 25,
     "metadata": {},
     "output_type": "execute_result"
    }
   ],
   "source": [
    "location_trend"
   ]
  },
  {
   "cell_type": "markdown",
   "metadata": {},
   "source": [
    "### Find which cities are most commonly the highest daily listed"
   ]
  },
  {
   "cell_type": "code",
   "execution_count": 26,
   "metadata": {
    "scrolled": true
   },
   "outputs": [
    {
     "data": {
      "image/png": "[encoded data removed]",
      "text/plain": [
       "<Figure size 432x288 with 1 Axes>"
      ]
     },
     "metadata": {
      "needs_background": "light"
     },
     "output_type": "display_data"
    }
   ],
   "source": [
    "location_trend.groupby(\"Location\")[\"Location\"].count().nlargest(3).plot(kind='bar', title=\"Top 3 Growth Cities, Days Where City Was Most Listed\")\n",
    "plt.xlabel(\"City\")\n",
    "\n",
    "plt.ylabel(\"# days city had the most new listings\")\n",
    "plt.savefig('figures\\TopGrowth_LocationDays', bbox_inches=\"tight\")\n",
    "plt.show()"
   ]
  },
  {
   "cell_type": "markdown",
   "metadata": {},
   "source": [
    "### Find which cities had the highest average daily postings"
   ]
  },
  {
   "cell_type": "code",
   "execution_count": 27,
   "metadata": {},
   "outputs": [
    {
     "data": {
      "image/png": "[encoded data removed]",
      "text/plain": [
       "<Figure size 432x288 with 1 Axes>"
      ]
     },
     "metadata": {
      "needs_background": "light"
     },
     "output_type": "display_data"
    }
   ],
   "source": [
    "location_trend.groupby(\"Location\")[\"Count\"].mean().nlargest(3).plot(kind='bar', title=\"Top 3 Growth Cities Average Daily Listings\")\n",
    "plt.xlabel(\"City\")\n",
    "plt.ylabel(\"# Average Daily Listings\")\n",
    "plt.savefig('figures\\TopGrowth_LocationAverage', bbox_inches=\"tight\")\n",
    "plt.show()"
   ]
  },
  {
   "cell_type": "markdown",
   "metadata": {},
   "source": [
    "# Predictive Analysis"
   ]
  },
  {
   "cell_type": "markdown",
   "metadata": {},
   "source": [
    "## Time Series: Exponential smoothing for growth of market locations - Sydney"
   ]
  },
  {
   "cell_type": "code",
   "execution_count": 28,
   "metadata": {},
   "outputs": [
    {
     "data": {
      "text/html": [
       "<div>\n",
       "<style scoped>\n",
       "    .dataframe tbody tr th:only-of-type {\n",
       "        vertical-align: middle;\n",
       "    }\n",
       "\n",
       "    .dataframe tbody tr th {\n",
       "        vertical-align: top;\n",
       "    }\n",
       "\n",
       "    .dataframe thead th {\n",
       "        text-align: right;\n",
       "    }\n",
       "</style>\n",
       "<table border=\"1\" class=\"dataframe\">\n",
       "  <thead>\n",
       "    <tr style=\"text-align: right;\">\n",
       "      <th></th>\n",
       "      <th>index</th>\n",
       "      <th>Period</th>\n",
       "      <th>Count</th>\n",
       "    </tr>\n",
       "  </thead>\n",
       "  <tbody>\n",
       "    <tr>\n",
       "      <td>0</td>\n",
       "      <td>45</td>\n",
       "      <td>1</td>\n",
       "      <td>300</td>\n",
       "    </tr>\n",
       "    <tr>\n",
       "      <td>1</td>\n",
       "      <td>99</td>\n",
       "      <td>2</td>\n",
       "      <td>669</td>\n",
       "    </tr>\n",
       "  </tbody>\n",
       "</table>\n",
       "</div>"
      ],
      "text/plain": [
       "   index  Period  Count\n",
       "0     45       1    300\n",
       "1     99       2    669"
      ]
     },
     "execution_count": 28,
     "metadata": {},
     "output_type": "execute_result"
    }
   ],
   "source": [
    "Listings_Dated =  df[['Location', 'Date']].groupby([\"Date\", \"Location\"]).size().reset_index()\n",
    "isSydney = Listings_Dated['Location'] == 'Sydney'\n",
    "\n",
    "Sydney_Listings = Listings_Dated[isSydney].copy()\n",
    "Sydney_Listings.insert(3, \"Period\", range(1, 1+len(Sydney_Listings)))\n",
    "Sydney_Listings.columns = [\"Date\", \"Location\", \"Count\", \"Period\"]\n",
    "Sydney_Listings.drop(columns=[\"Date\", \"Location\"], inplace=True)\n",
    "Sydney_Listings = Sydney_Listings[['Period', 'Count']]\n",
    "Sydney_Listings.reset_index(inplace=True)\n",
    "Sydney_Listings.head(2)"
   ]
  },
  {
   "cell_type": "code",
   "execution_count": 29,
   "metadata": {},
   "outputs": [
    {
     "data": {
      "image/png": "[encoded data removed]",
      "text/plain": [
       "<Figure size 432x288 with 1 Axes>"
      ]
     },
     "metadata": {
      "needs_background": "light"
     },
     "output_type": "display_data"
    }
   ],
   "source": [
    "def exponential_smoothing(df, alpha):\n",
    "    es_df = pd.DataFrame(columns=['Period','Count'])\n",
    "    es_df.loc[0] = [1, df['Count'][0]]\n",
    "    num_df = len(df)\n",
    "    for m in range(0, num_df):\n",
    "        sale_predict = alpha * df['Count'][m] + (1-alpha) * es_df['Count'][m]\n",
    "        es_df.loc[m+1] = [m+2, sale_predict]\n",
    "        \n",
    "    es_df['Period'] = es_df['Period'].astype(int)\n",
    "    return es_df\n",
    "\n",
    "f, ax = plt.subplots(1, 1)\n",
    "es_df_02 = exponential_smoothing(Sydney_Listings, 0.2)\n",
    "sn.pointplot(ax=ax, x='Period', y='Count', data=Sydney_Listings, color='b')\n",
    "sn.pointplot(ax=ax, x='Period', y='Count', data=es_df_02, color='g')\n",
    "plt.savefig('figures\\TopGrowth_LocationAverage', bbox_inches=\"tight\")\n",
    "ax.legend(handles=ax.lines[::len(df)+1], labels=[\"Actual\", r'$\\alpha=0.2$'])\n",
    "locs, labels = plt.xticks()\n",
    "for i in range(len(locs)):\n",
    "    if (i+1) % 5 != 0:\n",
    "        labels[i] = ''\n",
    "plt.xticks(locs, labels)\n",
    "plt.savefig('figures\\ES_SydneyGrowth', bbox_inches=\"tight\")\n",
    "plt.show()\n"
   ]
  },
  {
   "cell_type": "markdown",
   "metadata": {},
   "source": [
    "## Time Series: Exponential smoothing for growth of Sectors\n"
   ]
  },
  {
   "cell_type": "code",
   "execution_count": 30,
   "metadata": {},
   "outputs": [
    {
     "data": {
      "text/html": [
       "<div>\n",
       "<style scoped>\n",
       "    .dataframe tbody tr th:only-of-type {\n",
       "        vertical-align: middle;\n",
       "    }\n",
       "\n",
       "    .dataframe tbody tr th {\n",
       "        vertical-align: top;\n",
       "    }\n",
       "\n",
       "    .dataframe thead th {\n",
       "        text-align: right;\n",
       "    }\n",
       "</style>\n",
       "<table border=\"1\" class=\"dataframe\">\n",
       "  <thead>\n",
       "    <tr style=\"text-align: right;\">\n",
       "      <th></th>\n",
       "      <th>index</th>\n",
       "      <th>Period</th>\n",
       "      <th>Count</th>\n",
       "    </tr>\n",
       "  </thead>\n",
       "  <tbody>\n",
       "    <tr>\n",
       "      <td>0</td>\n",
       "      <td>17</td>\n",
       "      <td>1</td>\n",
       "      <td>234</td>\n",
       "    </tr>\n",
       "    <tr>\n",
       "      <td>1</td>\n",
       "      <td>45</td>\n",
       "      <td>2</td>\n",
       "      <td>440</td>\n",
       "    </tr>\n",
       "  </tbody>\n",
       "</table>\n",
       "</div>"
      ],
      "text/plain": [
       "   index  Period  Count\n",
       "0     17       1    234\n",
       "1     45       2    440"
      ]
     },
     "execution_count": 30,
     "metadata": {},
     "output_type": "execute_result"
    }
   ],
   "source": [
    "Sectors_Dated =  df[['Classification', 'Date']].groupby([\"Date\", \"Classification\"]).size().reset_index()\n",
    "isICT = Sectors_Dated['Classification'] == 'Information & Communication Technology'\n",
    "\n",
    "ICT_Listings = Sectors_Dated[isICT].copy()\n",
    "ICT_Listings.insert(3, \"Period\", range(1, 1+len(ICT_Listings)))\n",
    "ICT_Listings.columns = [\"Date\", \"Classification\", \"Count\", \"Period\"]\n",
    "ICT_Listings.drop(columns=[\"Date\", \"Classification\"], inplace=True)\n",
    "ICT_Listings = ICT_Listings[['Period', 'Count']]\n",
    "ICT_Listings.reset_index(inplace=True)\n",
    "ICT_Listings.head(2)"
   ]
  },
  {
   "cell_type": "code",
   "execution_count": 31,
   "metadata": {},
   "outputs": [
    {
     "data": {
      "image/png": "[encoded data removed]",
      "text/plain": [
       "<Figure size 432x288 with 1 Axes>"
      ]
     },
     "metadata": {
      "needs_background": "light"
     },
     "output_type": "display_data"
    }
   ],
   "source": [
    "f, ax = plt.subplots(1, 1)\n",
    "es_df_02 = exponential_smoothing(ICT_Listings, 0.2)\n",
    "es_df_08 = exponential_smoothing(ICT_Listings, 0.8)\n",
    "sn.pointplot(ax=ax, x='Period', y='Count', data=ICT_Listings, color='b')\n",
    "sn.pointplot(ax=ax, x='Period', y='Count', data=es_df_02, color='g')\n",
    "ax.legend(handles=ax.lines[::len(df)+1], labels=[\"Actual\", r'$\\alpha=0.2$'])\n",
    "locs, labels = plt.xticks()\n",
    "for i in range(len(locs)):\n",
    "    if (i+1) % 5 != 0:\n",
    "        labels[i] = ''\n",
    "plt.xticks(locs, labels)\n",
    "plt.savefig('figures\\ES_ICTGrowth', bbox_inches=\"tight\")\n",
    "plt.show()"
   ]
  },
  {
   "cell_type": "code",
   "execution_count": 32,
   "metadata": {},
   "outputs": [
    {
     "data": {
      "text/html": [
       "<div>\n",
       "<style scoped>\n",
       "    .dataframe tbody tr th:only-of-type {\n",
       "        vertical-align: middle;\n",
       "    }\n",
       "\n",
       "    .dataframe tbody tr th {\n",
       "        vertical-align: top;\n",
       "    }\n",
       "\n",
       "    .dataframe thead th {\n",
       "        text-align: right;\n",
       "    }\n",
       "</style>\n",
       "<table border=\"1\" class=\"dataframe\">\n",
       "  <thead>\n",
       "    <tr style=\"text-align: right;\">\n",
       "      <th></th>\n",
       "      <th>SubClassification</th>\n",
       "      <th>Count</th>\n",
       "    </tr>\n",
       "  </thead>\n",
       "  <tbody>\n",
       "    <tr>\n",
       "      <td>235</td>\n",
       "      <td>Developers/Programmers</td>\n",
       "      <td>3440</td>\n",
       "    </tr>\n",
       "    <tr>\n",
       "      <td>231</td>\n",
       "      <td>Business/Systems Analysts</td>\n",
       "      <td>2339</td>\n",
       "    </tr>\n",
       "    <tr>\n",
       "      <td>244</td>\n",
       "      <td>Programme &amp; Project Management</td>\n",
       "      <td>1903</td>\n",
       "    </tr>\n",
       "    <tr>\n",
       "      <td>230</td>\n",
       "      <td>Architects</td>\n",
       "      <td>1310</td>\n",
       "    </tr>\n",
       "  </tbody>\n",
       "</table>\n",
       "</div>"
      ],
      "text/plain": [
       "                  SubClassification  Count\n",
       "235          Developers/Programmers   3440\n",
       "231       Business/Systems Analysts   2339\n",
       "244  Programme & Project Management   1903\n",
       "230                      Architects   1310"
      ]
     },
     "execution_count": 32,
     "metadata": {},
     "output_type": "execute_result"
    }
   ],
   "source": [
    "Sectors_Dated =  df[['Classification', 'SubClassification']].groupby([\"Classification\", 'SubClassification']).size().reset_index()\n",
    "isICT = Sectors_Dated['Classification'] == 'Information & Communication Technology'\n",
    "ICT_Listings = Sectors_Dated[isICT].copy()\n",
    "ICT_Listings.drop(columns=['Classification'], inplace=True)\n",
    "ICT_Listings.columns = [\"SubClassification\", \"Count\"]\n",
    "ICT_Listings.sort_values(['Count'], inplace=True, ascending=False)\n",
    "ICT_Listings.head(4)"
   ]
  },
  {
   "cell_type": "code",
   "execution_count": 33,
   "metadata": {},
   "outputs": [
    {
     "data": {
      "image/png": "[encoded data removed]",
      "text/plain": [
       "<Figure size 432x288 with 1 Axes>"
      ]
     },
     "metadata": {
      "needs_background": "light"
     },
     "output_type": "display_data"
    }
   ],
   "source": [
    "ICT_Listings.plot(kind='bar', title=\"ICT SubSectors\")\n",
    "plt.xlabel(\"SubSector\")\n",
    "plt.ylabel(\"# Unique Listings\")\n",
    "plt.xticks(np.arange(22), ICT_Listings['SubClassification'])\n",
    "plt.savefig('figures\\ICT SubSectors', bbox_inches=\"tight\")\n",
    "plt.show()"
   ]
  },
  {
   "cell_type": "markdown",
   "metadata": {},
   "source": [
    "# 3) Case Studies"
   ]
  },
  {
   "cell_type": "markdown",
   "metadata": {},
   "source": [
    "## Case Study 1"
   ]
  },
  {
   "cell_type": "code",
   "execution_count": 235,
   "metadata": {},
   "outputs": [],
   "source": [
    "from sklearn.feature_extraction.text import CountVectorizer, TfidfVectorizer\n",
    "from sklearn.metrics.pairwise import linear_kernel\n"
   ]
  },
  {
   "cell_type": "code",
   "execution_count": 236,
   "metadata": {},
   "outputs": [],
   "source": [
    "comsci = df[df['Classification'] == \"Information & Communication Technology\"]\n",
    "tfidf = TfidfVectorizer(analyzer='word', ngram_range=(1,5), stop_words = 'english', max_features=500)\n",
    "documents = comsci[\"Requirement\"].values\n",
    "features = tfidf.fit(documents)\n",
    "corpus_tf_idf = tfidf.transform(documents) \n",
    "\n",
    "sum_words = corpus_tf_idf.sum(axis=0)\n",
    "words_freq = [(word, sum_words[0, idx]) for word, idx in tfidf.vocabulary_.items()]\n",
    "\n"
   ]
  },
  {
   "cell_type": "code",
   "execution_count": 237,
   "metadata": {},
   "outputs": [
    {
     "name": "stdout",
     "output_type": "stream",
     "text": [
      "Most common words:\n"
     ]
    },
    {
     "data": {
      "text/html": [
       "<div>\n",
       "<style scoped>\n",
       "    .dataframe tbody tr th:only-of-type {\n",
       "        vertical-align: middle;\n",
       "    }\n",
       "\n",
       "    .dataframe tbody tr th {\n",
       "        vertical-align: top;\n",
       "    }\n",
       "\n",
       "    .dataframe thead th {\n",
       "        text-align: right;\n",
       "    }\n",
       "</style>\n",
       "<table border=\"1\" class=\"dataframe\">\n",
       "  <thead>\n",
       "    <tr style=\"text-align: right;\">\n",
       "      <th></th>\n",
       "      <th>Skill</th>\n",
       "      <th>Count</th>\n",
       "    </tr>\n",
       "  </thead>\n",
       "  <tbody>\n",
       "    <tr>\n",
       "      <td>0</td>\n",
       "      <td>contract</td>\n",
       "      <td>622.455843</td>\n",
       "    </tr>\n",
       "    <tr>\n",
       "      <td>1</td>\n",
       "      <td>opportunity</td>\n",
       "      <td>620.578357</td>\n",
       "    </tr>\n",
       "    <tr>\n",
       "      <td>2</td>\n",
       "      <td>team</td>\n",
       "      <td>618.265737</td>\n",
       "    </tr>\n",
       "    <tr>\n",
       "      <td>3</td>\n",
       "      <td>join</td>\n",
       "      <td>615.090532</td>\n",
       "    </tr>\n",
       "    <tr>\n",
       "      <td>4</td>\n",
       "      <td>business</td>\n",
       "      <td>544.656562</td>\n",
       "    </tr>\n",
       "    <tr>\n",
       "      <td>5</td>\n",
       "      <td>work</td>\n",
       "      <td>540.232732</td>\n",
       "    </tr>\n",
       "    <tr>\n",
       "      <td>6</td>\n",
       "      <td>looking</td>\n",
       "      <td>530.789696</td>\n",
       "    </tr>\n",
       "    <tr>\n",
       "      <td>7</td>\n",
       "      <td>project</td>\n",
       "      <td>523.925117</td>\n",
       "    </tr>\n",
       "    <tr>\n",
       "      <td>8</td>\n",
       "      <td>role</td>\n",
       "      <td>497.197290</td>\n",
       "    </tr>\n",
       "    <tr>\n",
       "      <td>9</td>\n",
       "      <td>experience</td>\n",
       "      <td>479.149834</td>\n",
       "    </tr>\n",
       "  </tbody>\n",
       "</table>\n",
       "</div>"
      ],
      "text/plain": [
       "         Skill       Count\n",
       "0     contract  622.455843\n",
       "1  opportunity  620.578357\n",
       "2         team  618.265737\n",
       "3         join  615.090532\n",
       "4     business  544.656562\n",
       "5         work  540.232732\n",
       "6      looking  530.789696\n",
       "7      project  523.925117\n",
       "8         role  497.197290\n",
       "9   experience  479.149834"
      ]
     },
     "execution_count": 237,
     "metadata": {},
     "output_type": "execute_result"
    }
   ],
   "source": [
    "print(\"Most common words:\")\n",
    "skills = pd.DataFrame(sorted(words_freq, key = lambda x: x[1], reverse=True)[:10], columns =['Skill', 'Count'])\n",
    "skills.head(10)"
   ]
  },
  {
   "cell_type": "code",
   "execution_count": 238,
   "metadata": {},
   "outputs": [
    {
     "name": "stdout",
     "output_type": "stream",
     "text": [
      "18640\n",
      "Top-5 documents\n",
      "1 \n",
      "~~~~~~~~~~~~~~~~~~\n",
      "\n",
      "Title: \n",
      "\t Unity Developer\n",
      "Sub-Sector: \n",
      "\t Information & Communication Technology\n",
      "Requirement: \n",
      "\t Contribute your wizardry skills to magical apps\n",
      "\n",
      "\n",
      "\n",
      "2 \n",
      "~~~~~~~~~~~~~~~~~~\n",
      "\n",
      "Title: \n",
      "\t ICT Administrator Assistant\n",
      "Sub-Sector: \n",
      "\t Information & Communication Technology\n",
      "Requirement: \n",
      "\t Superstar IT Administrator - Advanced Excel skills required\n",
      "\n",
      "\n",
      "\n",
      "3 \n",
      "~~~~~~~~~~~~~~~~~~\n",
      "\n",
      "Title: \n",
      "\t IM Analyst - Perth CBD - Oil & Gas\n",
      "Sub-Sector: \n",
      "\t Information & Communication Technology\n",
      "Requirement: \n",
      "\t Skills required in Project Controls, Database development and Information Management\n",
      "\n",
      "\n",
      "\n",
      "4 \n",
      "~~~~~~~~~~~~~~~~~~\n",
      "\n",
      "Title: \n",
      "\t SEO and Web Developer\n",
      "Sub-Sector: \n",
      "\t Information & Communication Technology\n",
      "Requirement: \n",
      "\t SEO Assistant required with skills in onsite and web development. Work from hom, flexible hours and business phone included!\n",
      "\n",
      "\n",
      "\n",
      "5 \n",
      "~~~~~~~~~~~~~~~~~~\n",
      "\n",
      "Title: \n",
      "\t System Admin - NetBackup & Linux |   FinTech  |  $140-150k pack\n",
      "Sub-Sector: \n",
      "\t Information & Communication Technology\n",
      "Requirement: \n",
      "\t Suited to a Systems Admin/Engineer with broad technical skills yet strong NetBackup & Linux admin skills.   \n",
      "\n",
      "\n",
      "\n"
     ]
    }
   ],
   "source": [
    "#Query top n most related documents (can use words or phrases in the corpus)\n",
    "query = \"required skills\"\n",
    "new_features = tfidf.transform([query])\n",
    "cosine_similarities = linear_kernel(new_features, corpus_tf_idf).flatten()\n",
    "related_docs_indices = cosine_similarities.argsort()[::-1]\n",
    "print(len(related_docs_indices))\n",
    "topk = 5\n",
    "print('Top-{0} documents'.format(topk))\n",
    "\n",
    "\n",
    "for i in range(topk):\n",
    "    print(i+1, \"\\n~~~~~~~~~~~~~~~~~~\\n\")\n",
    "    idx = (comsci[\"Requirement\"] == documents[related_docs_indices[i]])\n",
    "    d = comsci[[\"Title\", \"Classification\", \"Requirement\"]][idx].drop_duplicates(subset = [\"Requirement\"])\n",
    "    print(\"Title: \\n\\t\", d.values[0,0])\n",
    "    print(\"Sub-Sector: \\n\\t\", d.values[0,1])\n",
    "    print(\"Requirement: \\n\\t\", d.values[0,2])\n",
    "    print(\"\\n\\n\")\n",
    "  \n",
    " "
   ]
  },
  {
   "cell_type": "markdown",
   "metadata": {},
   "source": [
    "## Case Study 2"
   ]
  },
  {
   "cell_type": "code",
   "execution_count": null,
   "metadata": {},
   "outputs": [],
   "source": []
  }
 ],
 "metadata": {
  "kernelspec": {
   "display_name": "Python 3",
   "language": "python",
   "name": "python3"
  },
  "language_info": {
   "codemirror_mode": {
    "name": "ipython",
    "version": 3
   },
   "file_extension": ".py",
   "mimetype": "text/x-python",
   "name": "python",
   "nbconvert_exporter": "python",
   "pygments_lexer": "ipython3",
   "version": "3.7.4"
  },
  "metadata": {
   "interpreter": {
    "hash": "bd036638020f65861fffb3864eb54e0bf98bfa2183b79c2804d02e9e08c4f4a5"
   }
  }
 },
 "nbformat": 4,
 "nbformat_minor": 2
}
